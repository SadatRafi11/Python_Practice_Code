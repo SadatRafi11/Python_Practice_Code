{
  "nbformat": 4,
  "nbformat_minor": 0,
  "metadata": {
    "colab": {
      "name": "Python_Practice(Basics & OOP)",
      "provenance": [],
      "collapsed_sections": [],
      "authorship_tag": "ABX9TyO7ztyHGfys/HkXa7zXlw93",
      "include_colab_link": true
    },
    "kernelspec": {
      "name": "python3",
      "display_name": "Python 3"
    },
    "language_info": {
      "name": "python"
    }
  },
  "cells": [
    {
      "cell_type": "markdown",
      "metadata": {
        "id": "view-in-github",
        "colab_type": "text"
      },
      "source": [
        "<a href=\"https://colab.research.google.com/github/SadatRafi11/Python_Practice_Code/blob/main/Python_Practice(Basics_%26_OOP).ipynb\" target=\"_parent\"><img src=\"https://colab.research.google.com/assets/colab-badge.svg\" alt=\"Open In Colab\"/></a>"
      ]
    },
    {
      "cell_type": "code",
      "metadata": {
        "colab": {
          "base_uri": "https://localhost:8080/"
        },
        "id": "Tx-uQK7Cvu8G",
        "outputId": "c1ca2b85-8312-4fb3-df4b-8b149487043e"
      },
      "source": [
        "input_string = input(\"Enter your string: \")\n",
        "flag = False\n",
        "#The book is too good!\n",
        "for i in range(len(input_string)):\n",
        "    comp_string = input_string[i : i+8].lower()\n",
        "    if comp_string == \"too good\":\n",
        "        if i == 0:\n",
        "            flag = True\n",
        "        first_part = input_string[0 : i]\n",
        "        last_part = input_string[i+8 : ]\n",
        "        break;\n",
        "if flag:\n",
        "    print(first_part+\"Excellent\"+last_part)\n",
        "else:\n",
        "    print(first_part+\"excellent\"+last_part)\n"
      ],
      "execution_count": null,
      "outputs": [
        {
          "output_type": "stream",
          "text": [
            "Enter your string: Too good a book!\n",
            "Excellent a book!\n"
          ],
          "name": "stdout"
        }
      ]
    },
    {
      "cell_type": "code",
      "metadata": {
        "colab": {
          "base_uri": "https://localhost:8080/"
        },
        "id": "qg1Q9q9ToNzC",
        "outputId": "64fffabd-48ec-475f-ea02-0ccc29613573"
      },
      "source": [
        "unique_list = []\n",
        "num_list = []\n",
        "\n",
        "while True:\n",
        "    num = input(\"enter a number: \")\n",
        "    if num == \"STOP\":\n",
        "        break\n",
        "    num_list.append(num)\n",
        "    if (num not in unique_list):\n",
        "        unique_list.append(num)\n",
        "\n",
        "for x in unique_list:\n",
        "    count = 0\n",
        "    for y in num_list:\n",
        "        if(y == x):\n",
        "            count += 1\n",
        "    print(str(x) + \" - \" + str(count) + \" times\")"
      ],
      "execution_count": null,
      "outputs": [
        {
          "output_type": "stream",
          "text": [
            "enter a number: 10\n",
            "enter a number: 20\n",
            "enter a number: 30\n",
            "enter a number: 30\n",
            "enter a number: 50\n",
            "enter a number: STOP\n",
            "10 - 1 times\n",
            "20 - 1 times\n",
            "30 - 2 times\n",
            "50 - 1 times\n"
          ],
          "name": "stdout"
        }
      ]
    },
    {
      "cell_type": "code",
      "metadata": {
        "colab": {
          "base_uri": "https://localhost:8080/"
        },
        "id": "kkdz4hrBzmJz",
        "outputId": "6c32cb01-2014-4b03-df82-afde6775f775"
      },
      "source": [
        "while (True):\n",
        "    input_list = input(\"Enter the list of numbers: \")\n",
        "    if (input_list == \"STOP\"):\n",
        "        break\n",
        "\n",
        "    num_list = [int(num) for num in input_list.split(' ')]\n",
        "    elements_count = len(num_list) - 1\n",
        "\n",
        "    sum = 0\n",
        "    for i in range(1, len(num_list)):\n",
        "        sum += abs(num_list[i] - num_list[i-1])\n",
        "    # print(sum)\n",
        "    check_sum = (elements_count * (elements_count+1)) / 2\n",
        "    # print(check_sum)\n",
        "    if (check_sum == sum):\n",
        "        print(\"UB Jumper\")\n",
        "    else:\n",
        "        print(\"Not UB Jumper\")"
      ],
      "execution_count": null,
      "outputs": [
        {
          "output_type": "stream",
          "text": [
            "Enter the list of numbers: 1 4 2 3\n",
            "UB Jumper\n",
            "Enter the list of numbers: 2 1 4 6 10\n",
            "UB Jumper\n",
            "Enter the list of numbers: 1 4 2 -1 6\n",
            "Not UB Jumper\n",
            "Enter the list of numbers: STOP\n"
          ],
          "name": "stdout"
        }
      ]
    },
    {
      "cell_type": "code",
      "metadata": {
        "colab": {
          "base_uri": "https://localhost:8080/"
        },
        "id": "4lziGg5CRjPa",
        "outputId": "cbb20aed-e55b-432e-8c8c-57c1f933c40f"
      },
      "source": [
        "x = input()\n",
        "type(x)"
      ],
      "execution_count": null,
      "outputs": [
        {
          "output_type": "stream",
          "text": [
            "1 2 3 4\n"
          ],
          "name": "stdout"
        },
        {
          "output_type": "execute_result",
          "data": {
            "text/plain": [
              "str"
            ]
          },
          "metadata": {
            "tags": []
          },
          "execution_count": 17
        }
      ]
    },
    {
      "cell_type": "code",
      "metadata": {
        "colab": {
          "base_uri": "https://localhost:8080/"
        },
        "id": "3MnEps9Q5yms",
        "outputId": "f8996280-8d42-4f54-d028-324d7e6c8f7b"
      },
      "source": [
        "input_string = input(\"Enter the string: \")\n",
        "\n",
        "lower_case = []\n",
        "upper_case = []\n",
        "odd_num = []\n",
        "even_num = []\n",
        "\n",
        "for ch in input_string:\n",
        "    if (ch >= 'a' and ch <= 'z'):\n",
        "        lower_case.append(ch)\n",
        "    elif (ch >= 'A' and ch <= 'Z'):\n",
        "        upper_case.append(ch)\n",
        "    elif (int(ch) % 2):\n",
        "        odd_num.append(ch)\n",
        "    else:\n",
        "        even_num.append(ch)\n",
        "\n",
        "lower_case.sort()\n",
        "upper_case.sort()\n",
        "odd_num.sort()\n",
        "even_num.sort()\n",
        "\n",
        "lower_case_string = ''.join(lower_case)\n",
        "upper_case_tring = ''.join(upper_case)\n",
        "odd_num_string = ''.join(odd_num)\n",
        "even_num_string = ''.join(even_num)\n",
        "\n",
        "print(lower_case_string + upper_case_tring + odd_num_string + even_num_string)"
      ],
      "execution_count": null,
      "outputs": [
        {
          "output_type": "stream",
          "text": [
            "Enter the string: Bracu1234\n",
            "acruB1324\n"
          ],
          "name": "stdout"
        }
      ]
    },
    {
      "cell_type": "code",
      "metadata": {
        "colab": {
          "base_uri": "https://localhost:8080/"
        },
        "id": "nbl42KxXCzbu",
        "outputId": "f5dca36d-f862-4473-9b03-b6be5a41a4ee"
      },
      "source": [
        "initial_string = input()\n",
        "initial_list = [int(num) for num in initial_string.split(' ')]\n",
        "n = initial_list[0]\n",
        "k = initial_list[1]\n",
        "\n",
        "num_string = input()\n",
        "num_list = [int(num) for num in num_string.split(' ')]\n",
        "\n",
        "count = 0\n",
        "for num in num_list:\n",
        "    num = 5 - num - k\n",
        "    if (num >= 0):\n",
        "        count += 1\n",
        "\n",
        "print(count//3)\n"
      ],
      "execution_count": null,
      "outputs": [
        {
          "output_type": "stream",
          "text": [
            "6 5\n",
            "0 0 0 0 0 0\n",
            "2\n"
          ],
          "name": "stdout"
        }
      ]
    },
    {
      "cell_type": "code",
      "metadata": {
        "colab": {
          "base_uri": "https://localhost:8080/"
        },
        "id": "Rp6HltGxUXo6",
        "outputId": "1a3f4236-ddb6-473c-bee6-4f22c73fd035"
      },
      "source": [
        "list1 = input(\"Enter a dictionary : \").split(', ')\n",
        "list2 = input(\"Enter a dictionary : \").split(', ')\n",
        "dict1 = {}\n",
        "dict2 = {}\n",
        "# print(list1)\n",
        "for k in list1:\n",
        "    k,v = k.split(\": \")\n",
        "    dict1[k] = int(v)\n",
        "    \n",
        "# print(list2)\n",
        "for k in list2:\n",
        "    k,v = k.split(\": \")\n",
        "    dict2[k] = int(v)\n",
        "\n",
        "# print(dict1)\n",
        "# print(dict2)\n",
        "\n",
        "the_list = []\n",
        "for k, v in dict2.items():\n",
        "    if dict1.get(k) == None:\n",
        "        dict1[k] = v\n",
        "    else:\n",
        "        dict1[k] += v\n",
        "\n",
        "for k, v in dict1.items():\n",
        "    if dict1[k] not in the_list:\n",
        "        the_list.append(dict1[k])\n",
        "\n",
        "the_list.sort()\n",
        "the_tuple = tuple(the_list)\n",
        "\n",
        "print(dict1)\n",
        "print(\"Values:\", the_tuple)\n",
        "\n"
      ],
      "execution_count": null,
      "outputs": [
        {
          "output_type": "stream",
          "text": [
            "Enter a dictionary : a: 100, b: 100, c: 200, d: 300\n",
            "Enter a dictionary : a: 300, b: 200, d: 400, e: 200\n",
            "{'a': 400, 'b': 300, 'c': 200, 'd': 700, 'e': 200}\n",
            "Values:  (200, 300, 400, 700)\n"
          ],
          "name": "stdout"
        }
      ]
    },
    {
      "cell_type": "code",
      "metadata": {
        "colab": {
          "base_uri": "https://localhost:8080/"
        },
        "id": "rXfJitGtaIba",
        "outputId": "082493f9-cccb-4a54-a13c-b4a3b0f9b46f"
      },
      "source": [
        "given = input(\"Enter the Dictionary: \").split(\", \")\n",
        "\n",
        "given_dict = {}\n",
        "\n",
        "for k in given:\n",
        "    k, v = k.split(\" : \")\n",
        "    given_dict[k] = v\n",
        "\n",
        "new_dict = {}\n",
        "for k, v in given_dict.items():\n",
        "    if (new_dict.get(v) == None):\n",
        "        new_dict[v] = [k]\n",
        "    else:\n",
        "        new_dict[v].append(k)\n",
        "\n",
        "print(new_dict)\n",
        "\n"
      ],
      "execution_count": null,
      "outputs": [
        {
          "output_type": "stream",
          "text": [
            "Enter the Dictionary: key1 : value1, key2 : value2, key3 : value1\n",
            "{'value1': ['key1', 'key3'], 'value2': ['key2']}\n"
          ],
          "name": "stdout"
        }
      ]
    },
    {
      "cell_type": "code",
      "metadata": {
        "colab": {
          "base_uri": "https://localhost:8080/"
        },
        "id": "1Ztam2nXd7M_",
        "outputId": "52f1bac5-4095-4745-f1a3-aa08a7968af7"
      },
      "source": [
        "the_dict = {}\n",
        "\n",
        "num = input(\"Enter a number: \")\n",
        "\n",
        "while num != \"STOP\":\n",
        "    if (the_dict.get(num) == None):\n",
        "        the_dict[num] = 1\n",
        "    else:\n",
        "        the_dict[num] = the_dict[num] + 1\n",
        "\n",
        "    num = input(\"Enter a number: \")\n",
        "\n",
        "for k, v in the_dict.items():\n",
        "    print(k, \"-\", v, \"times\")"
      ],
      "execution_count": null,
      "outputs": [
        {
          "output_type": "stream",
          "text": [
            "Enter a number: 10\n",
            "Enter a number: 20\n",
            "Enter a number: 10\n",
            "Enter a number: 20\n",
            "Enter a number: 30\n",
            "Enter a number: 50\n",
            "Enter a number: 90\n",
            "Enter a number: STOP\n",
            "10 - 2 times\n",
            "20 - 2 times\n",
            "30 - 1 times\n",
            "50 - 1 times\n",
            "90 - 1 times\n"
          ],
          "name": "stdout"
        }
      ]
    },
    {
      "cell_type": "code",
      "metadata": {
        "colab": {
          "base_uri": "https://localhost:8080/"
        },
        "id": "Ek2qNV12f_wb",
        "outputId": "65a3fd55-1df0-4991-fd28-8a64af67b09c"
      },
      "source": [
        "dict1 = {}\n",
        "dict2 = {}\n",
        "string1 = input(\"Enter the first word: \")\n",
        "string2 = input(\"Enter the second word: \")\n",
        "\n",
        "for ch in string1:\n",
        "    if (dict1.get(ch) != None):\n",
        "        dict1[ch] += 1\n",
        "    else:\n",
        "        dict1[ch] = 1\n",
        "\n",
        "for ch in string2:\n",
        "    if (dict2.get(ch) != None):\n",
        "        dict2[ch] += 1\n",
        "    else:\n",
        "        dict2[ch] = 1\n",
        "\n",
        "ok = True\n",
        "if (len(dict1) != len(dict2)):\n",
        "    ok = False\n",
        "else:\n",
        "    for k, v in dict1.items():\n",
        "        if (dict2.get(k) == None):\n",
        "            ok = False\n",
        "            break\n",
        "        elif (dict1[k] != dict2[k]):\n",
        "            ok = False\n",
        "            break\n",
        "\n",
        "if (ok):\n",
        "    print(\"Those strings are anagrams.\")\n",
        "else:\n",
        "    print(\"Those strings are not anagrams\")"
      ],
      "execution_count": null,
      "outputs": [
        {
          "output_type": "stream",
          "text": [
            "Enter the first word: evil\n",
            "Enter the second word: live\n",
            "Those strings are anagrams.\n"
          ],
          "name": "stdout"
        }
      ]
    },
    {
      "cell_type": "code",
      "metadata": {
        "colab": {
          "base_uri": "https://localhost:8080/"
        },
        "id": "kPrMCTfqdvNI",
        "outputId": "b9095b7d-249e-44a9-f958-b8f9a3cb883d"
      },
      "source": [
        "def my_function(h,w):\n",
        "    bml = w/h**2\n",
        "    if bml < 18.5:\n",
        "        return 'Score is ' + f'{bml:.1f}' + '. You are Underweight'\n",
        "    elif 18.5 <= bml <= 24.9:\n",
        "        return 'Score is ' + f'{bml:.1f}' + '. You are Normal'\n",
        "    elif 25 <= bml <= 30:\n",
        "        return 'Score is ' + f'{bml:.1f}' + '. You are Overweight'\n",
        "    elif bml > 30:\n",
        "        return 'Score is ' + f'{bml:.1f}' + '. You are Obese'\n",
        "\n",
        "height = int(input('Enter your height in cm: '))/100\n",
        "weight = int(input('Enter your weight in kg: '))\n",
        "print(my_function(height,weight))"
      ],
      "execution_count": null,
      "outputs": [
        {
          "output_type": "stream",
          "text": [
            "Enter your height in cm: 175\n",
            "Enter your weight in kg: 96\n",
            "Score is 31.3. You are Obese\n"
          ],
          "name": "stdout"
        }
      ]
    },
    {
      "cell_type": "code",
      "metadata": {
        "colab": {
          "base_uri": "https://localhost:8080/"
        },
        "id": "_mOq3wBEiWLg",
        "outputId": "152c0340-3d4e-45eb-bce4-f7286e1233b3"
      },
      "source": [
        "def replace_domain(email, new, old = \"sheba.xyz\"):\n",
        "    for i in range(len(email)):\n",
        "        if (email[i] == '@'):\n",
        "            name = email[:i+1]\n",
        "            break\n",
        "    return name + new\n",
        "\n",
        "user_email = input('Enter your email address: ')\n",
        "user_domain = input('Enter your domain: ')\n",
        "\n",
        "if (user_domain != 'sheba.xyz'):\n",
        "    print(\"Changed:\", replace_domain(user_email, 'sheba.xyz', user_domain))\n",
        "else:\n",
        "    print(\"Unchanged:\", replace_domain(user_email, 'sheba.xyz'))\n"
      ],
      "execution_count": null,
      "outputs": [
        {
          "output_type": "stream",
          "text": [
            "Enter your email address: bob@sheba.xyz\n",
            "Enter your domain: sheba.xyz\n",
            "Unchanged: bob@sheba.xyz\n"
          ],
          "name": "stdout"
        }
      ]
    },
    {
      "cell_type": "code",
      "metadata": {
        "id": "9KR05vKJtFC9",
        "colab": {
          "base_uri": "https://localhost:8080/"
        },
        "outputId": "9381bc6e-3e5e-4f45-bfc8-053cfa3b8e9a"
      },
      "source": [
        "def find_vowels(_name_):\n",
        "    name = _name_.lower()\n",
        "    vowels = 'aeiou'\n",
        "    vowel_list = []\n",
        "    for i in range(len(name)):\n",
        "        for v in vowels:\n",
        "            if (v == name[i]):\n",
        "                vowel_list.append(v)\n",
        "                break\n",
        "    if (len(vowel_list) == 0):\n",
        "        print(\"No vowels in the name\")\n",
        "        return\n",
        "    \n",
        "    print(\"Vowels: \", end = \"\")\n",
        "    for i in range(len(vowel_list)):\n",
        "        if (i == len(vowel_list) - 1):\n",
        "            print(vowel_list[i], end = \". \")\n",
        "        else:\n",
        "            print(vowel_list[i], end = \", \")\n",
        "    print(\"Total number of vowels:\", len(vowel_list))\n",
        "\n",
        "\n",
        "input_name = (input(\"Type in your name: \"))\n",
        "find_vowels(input_name)"
      ],
      "execution_count": null,
      "outputs": [
        {
          "output_type": "stream",
          "text": [
            "Type in your name: XYZ\n",
            "No vowels in the name\n"
          ],
          "name": "stdout"
        }
      ]
    },
    {
      "cell_type": "code",
      "metadata": {
        "colab": {
          "base_uri": "https://localhost:8080/"
        },
        "id": "MCIAcIBuzp3l",
        "outputId": "19091e32-7d00-4de2-9d12-9234f14de034"
      },
      "source": [
        "def check_palindrome(given_string):\n",
        "    new_string = \"\"\n",
        "    for ch in given_string:\n",
        "        if ch != \" \":\n",
        "            new_string += ch\n",
        "    \n",
        "    flag = True\n",
        "    for i in range(len(new_string)//2 - 1):\n",
        "        if (new_string[i] != new_string[len(new_string) - 1 - i]):\n",
        "            flag = False\n",
        "            break\n",
        "\n",
        "    if(flag):\n",
        "        print(\"Palindrome\")\n",
        "    else:\n",
        "        print(\"Not a palindrome\")\n",
        "\n",
        "    return\n",
        "\n",
        "input_string = input(\"Enter the string: \")\n",
        "\n",
        "check_palindrome(input_string)\n",
        "\n"
      ],
      "execution_count": null,
      "outputs": [
        {
          "output_type": "stream",
          "text": [
            "Enter the string: nurses run\n",
            "Palindrome\n"
          ],
          "name": "stdout"
        }
      ]
    },
    {
      "cell_type": "code",
      "metadata": {
        "colab": {
          "base_uri": "https://localhost:8080/"
        },
        "id": "OFoDR3Wg4jE_",
        "outputId": "59521d31-8cf2-4be0-eb00-1399520af88a"
      },
      "source": [
        "def capitalize(input_string):\n",
        "\n",
        "    capitalized_string = \"\"\n",
        "    capitalized_string += input_string[0].upper()\n",
        "    capitalized_string += input_string[1]\n",
        "\n",
        "    for i in range(2, len(input_string)):\n",
        "        if (input_string[i-2] == \".\" or input_string[i-2] == \"!\" or input_string[i-2] == \"?\"):\n",
        "            capitalized_string += input_string[i].upper()\n",
        "        else:\n",
        "            capitalized_string += input_string[i]\n",
        "\n",
        "    final_output = \"\"\n",
        "    final_output += capitalized_string[0:2]\n",
        "    for i in range(2, len(capitalized_string) - 1):\n",
        "        if (capitalized_string[i] == \"i\" and capitalized_string[i-1] == \" \"):\n",
        "            if (capitalized_string[i+1] < 'a' and capitalized_string[i+1] > 'z' and capitalized_string[i+1] < 'A' and capitalized_string[i+1] > 'Z') or (capitalized_string[i+1] == \" \"):\n",
        "                final_output += \"I\"\n",
        "            else:\n",
        "                final_output += capitalized_string[i]\n",
        "        else:\n",
        "            final_output += capitalized_string[i]\n",
        "    final_output += capitalized_string[-1]\n",
        "\n",
        "    print(final_output)\n",
        "\n",
        "input_string = input(\"Enter the paragraph: \")\n",
        "capitalize(input_string)\n",
        "\n",
        "        \n"
      ],
      "execution_count": null,
      "outputs": [
        {
          "output_type": "stream",
          "text": [
            "Enter the paragraph: my favourite animal is a dog. a dog has sharp teeth so that it can eat flesh I very easily. do you know my pet dog’s i name? i love my pet i very much.\n",
            "My favourite animal is a dog. A dog has sharp teeth so that it can eat flesh I very easily. Do you know my pet dog’s I name? I love my pet I very much.\n"
          ],
          "name": "stdout"
        }
      ]
    },
    {
      "cell_type": "code",
      "metadata": {
        "colab": {
          "base_uri": "https://localhost:8080/"
        },
        "id": "p1h17w5j3zjH",
        "outputId": "b6b7b32c-a91e-4e86-a6da-73aac700bd32"
      },
      "source": [
        "class Calculator:\n",
        "    def __init__(self):\n",
        "        print(\"Let's Calculate!\")\n",
        "\n",
        "    def add(self, first_value, second_value):\n",
        "            return first_value + second_value\n",
        "\n",
        "    def subtract(self, first_value, second_value):\n",
        "            return first_value - second_value\n",
        "\n",
        "    def multiply(self, first_value, second_value):\n",
        "            return first_value * second_value\n",
        "\n",
        "    def divide(self, first_value, second_value):\n",
        "            return first_value / second_value\n",
        "\n",
        "sample_calculator = Calculator()\n",
        "first_value = int(input('Value 1: '))\n",
        "operator = input('Operator: ')\n",
        "second_value = int(input('Value 2: '))\n",
        "\n",
        "if operator == '+':\n",
        "    result = sample_calculator.add(first_value, second_value)\n",
        "elif operator == '-':\n",
        "    result = sample_calculator.subtract(first_value, second_value)\n",
        "elif operator == '*':\n",
        "    result = sample_calculator.multiply(first_value, second_value)\n",
        "elif operator == '/':\n",
        "    result = sample_calculator.divide(first_value, second_value)\n",
        "\n",
        "print(\"Result: \", result)\n"
      ],
      "execution_count": null,
      "outputs": [
        {
          "output_type": "stream",
          "text": [
            "Let's Calculate!\n",
            "Value 1: 2\n",
            "Operator: /\n",
            "Value 2: 5\n",
            "Result:  0.4\n"
          ],
          "name": "stdout"
        }
      ]
    },
    {
      "cell_type": "code",
      "metadata": {
        "colab": {
          "base_uri": "https://localhost:8080/"
        },
        "id": "apTVsPPa9kpx",
        "outputId": "06375fcd-f79b-4477-8dfb-c594cb7cce12"
      },
      "source": [
        "class Customer:\n",
        "    def __init__(self, name):\n",
        "        self.name = name\n",
        "\n",
        "    def greet(self, name=None):\n",
        "        if name != None:\n",
        "            print('Hello', self.name + '!')\n",
        "        else:\n",
        "            print('Hello!')\n",
        "\n",
        "    def purchase(self, *args):\n",
        "        print(self.name + ',' , 'you purchased', len(args),'item(s):')\n",
        "        for i in args:\n",
        "            print(i)\n",
        "\n",
        "customer_1 = Customer(\"Sam\")\n",
        "customer_1.greet()\n",
        "customer_1.purchase(\"chips\", \"chocolate\", \"orange juice\")\n",
        "print(\"-----------------------------\")\n",
        "customer_2 = Customer(\"David\")\n",
        "customer_2.greet(\"David\")\n",
        "customer_2.purchase(\"orange juice\")"
      ],
      "execution_count": null,
      "outputs": [
        {
          "output_type": "stream",
          "text": [
            "Hello!\n",
            "Sam, you purchased 3 item(s):\n",
            "chips\n",
            "chocolate\n",
            "orange juice\n",
            "-----------------------------\n",
            "Hello David!\n",
            "David, you purchased 1 item(s):\n",
            "orange juice\n"
          ],
          "name": "stdout"
        }
      ]
    },
    {
      "cell_type": "code",
      "metadata": {
        "colab": {
          "base_uri": "https://localhost:8080/"
        },
        "id": "bLCRV_1i92J6",
        "outputId": "8fd8866f-0eaa-4eb8-9913-fa42eb039b39"
      },
      "source": [
        "class Panda:\n",
        "    def __init__(self, name, gender, age):\n",
        "        self.name = name\n",
        "        self.gender = gender\n",
        "        self.age = age\n",
        "\n",
        "    def sleep(self, hrs=None):\n",
        "        if hrs == None:\n",
        "            return self.name + \"'s \" + \"duration is unknown thus should have only bamboo leaves\"\n",
        "        else:\n",
        "            if 3 <= hrs <= 5: \n",
        "                return self.name + ' sleeps '+ str(hrs) + ' hours daily and should have Mixed Veggies'\n",
        "            elif 6 <= hrs <= 8:\n",
        "                return self.name +' sleeps ' + str(hrs) + ' hours daily and should have Eggplant & Tofu'\n",
        "            elif 9 <= hrs <= 11:\n",
        "                return self.name + ' sleeps ' + str(hrs) + ' hours daily and should have Broccoli'\n",
        "\n",
        "\n",
        "panda1 = Panda(\"Kunfu\", \"Male\", 5)\n",
        "panda2 = Panda(\"Pan Pan\", \"Female\", 3)\n",
        "panda3 = Panda(\"Ming Ming\", \"Female\", 8)\n",
        "print(\"{} is a {} Panda Bear who is {} years old\".format(panda1.name,panda1.gender,panda1.age))\n",
        "print(\"{} is a {} Panda Bear who is {} years old\".format(panda2.name,panda2.gender,panda2.age))\n",
        "print(\"{} is a {} Panda Bear who is {} years old\".format(panda3.name,panda3.gender,panda3.age))\n",
        "print(\"===========================\")\n",
        "print(panda2.sleep(10))\n",
        "print(panda1.sleep(4))\n",
        "print(panda3.sleep())"
      ],
      "execution_count": null,
      "outputs": [
        {
          "output_type": "stream",
          "text": [
            "Kunfu is a Male Panda Bear who is 5 years old\n",
            "Pan Pan is a Female Panda Bear who is 3 years old\n",
            "Ming Ming is a Female Panda Bear who is 8 years old\n",
            "===========================\n",
            "Pan Pan sleeps 10 hours daily and should have Broccoli\n",
            "Kunfu sleeps 4 hours daily and should have Mixed Veggies\n",
            "Ming Ming's duration is unknown thus should have only bamboo leaves\n"
          ],
          "name": "stdout"
        }
      ]
    },
    {
      "cell_type": "code",
      "metadata": {
        "colab": {
          "base_uri": "https://localhost:8080/"
        },
        "id": "m5pEQtEjB-lD",
        "outputId": "4ae25ad5-d9f2-4712-e625-105937a2b0f3"
      },
      "source": [
        "class Student:\n",
        "    def __init__(self, name = \"default student\"):\n",
        "        self.name = name\n",
        "\n",
        "    def quizcalc(self, quiz_1 = 0, quiz_2 = 0, quiz_3 = 0):\n",
        "        self.avg = (quiz_1 + quiz_2 + quiz_3)/3\n",
        "\n",
        "    def printdetail(self):\n",
        "        print(\"Hello\", self.name)\n",
        "        print('Your average quiz score is', self.avg)\n",
        "\n",
        "s1 = Student()\n",
        "s1.quizcalc(10)\n",
        "print('--------------------------------')\n",
        "s1.printdetail()\n",
        "s2 = Student('Harry')\n",
        "s2.quizcalc(10,8)\n",
        "print('--------------------------------')\n",
        "s2.printdetail()\n",
        "s3 = Student('Hermione')\n",
        "s3.quizcalc(10,9,10)\n",
        "print('--------------------------------')\n",
        "s3.printdetail()"
      ],
      "execution_count": null,
      "outputs": [
        {
          "output_type": "stream",
          "text": [
            "--------------------------------\n",
            "Hello default student\n",
            "Your average quiz score is 3.3333333333333335\n",
            "--------------------------------\n",
            "Hello Harry\n",
            "Your average quiz score is 6.0\n",
            "--------------------------------\n",
            "Hello Hermione\n",
            "Your average quiz score is 9.666666666666666\n"
          ],
          "name": "stdout"
        }
      ]
    },
    {
      "cell_type": "code",
      "metadata": {
        "colab": {
          "base_uri": "https://localhost:8080/"
        },
        "id": "pVMH-7xmHVp8",
        "outputId": "9d2f35cd-fd1a-42e8-85b9-997569873e56"
      },
      "source": [
        "class Vehicle():\n",
        "    def __init__(self):\n",
        "        self.x = 0\n",
        "        self.y = 0\n",
        "\n",
        "    def moveUp(self):\n",
        "        self.y += 1\n",
        "    def moveDown(self):\n",
        "        self.y -= 1\n",
        "    def moveLeft(self):\n",
        "        self.x -= 1\n",
        "    def moveRight(self):\n",
        "        self.x += 1\n",
        "\n",
        "    def print_position(self):\n",
        "        print(\"({},{})\".format(self.x, self.y))\n",
        "\n",
        "car = Vehicle()\n",
        "car.print_position()\n",
        "car.moveUp()\n",
        "car.print_position()\n",
        "car.moveLeft()\n",
        "car.print_position()\n",
        "car.moveDown()\n",
        "car.print_position()\n",
        "car.moveRight()"
      ],
      "execution_count": null,
      "outputs": [
        {
          "output_type": "stream",
          "text": [
            "(0,0)\n",
            "(0,1)\n",
            "(-1,1)\n",
            "(-1,0)\n"
          ],
          "name": "stdout"
        }
      ]
    },
    {
      "cell_type": "code",
      "metadata": {
        "id": "CpqZn6xkJ6Bb",
        "colab": {
          "base_uri": "https://localhost:8080/"
        },
        "outputId": "b769fa9d-d17d-4bac-a09f-9a8c5b22831a"
      },
      "source": [
        "class Programmer:\n",
        "    def __init__(self, name, language, years):\n",
        "        self.name = name\n",
        "        self.language = language\n",
        "        self.years = years\n",
        "        print(\"Horray! A new programmer is born\")\n",
        "\n",
        "    def addExp(self, years):\n",
        "        print(\"updating experience of \" + self.name)\n",
        "        self.years += years\n",
        "\n",
        "    def printDetails(self):\n",
        "        print(\"Name: \" + self.name)\n",
        "        print(\"Language: \" + self.language)\n",
        "        print(\"Experience: \" + str(self.years) + \" years\")\n",
        "\n",
        "p1 = Programmer(\"Ethen Hunt\", \"Java\", 10)\n",
        "p1.printDetails()\n",
        "print('--------------------------')\n",
        "p2 = Programmer(\"James Bond\", \"C++\", 7)\n",
        "p2.printDetails()\n",
        "print('--------------------------')\n",
        "p3 = Programmer(\"Jon Snow\", \"Python\", 4)\n",
        "p3.printDetails()\n",
        "p3.addExp(5)\n",
        "p3.printDetails()"
      ],
      "execution_count": null,
      "outputs": [
        {
          "output_type": "stream",
          "text": [
            "Horray! A new programmer is born\n",
            "Name: Ethen Hunt\n",
            "Language: Java\n",
            "Experience: 10 years\n",
            "--------------------------\n",
            "Horray! A new programmer is born\n",
            "Name: James Bond\n",
            "Language: C++\n",
            "Experience: 7 years\n",
            "--------------------------\n",
            "Horray! A new programmer is born\n",
            "Name: Jon Snow\n",
            "Language: Python\n",
            "Experience: 4 years\n",
            "updating experience of Jon Snow\n",
            "Name: Jon Snow\n",
            "Language: Python\n",
            "Experience: 9 years\n"
          ],
          "name": "stdout"
        }
      ]
    },
    {
      "cell_type": "code",
      "metadata": {
        "colab": {
          "base_uri": "https://localhost:8080/"
        },
        "id": "j_c-OIUANwJr",
        "outputId": "ec73ce05-a359-498d-80f9-3fd5df527592"
      },
      "source": [
        "class Student:\n",
        "    def __init__(self, name, id, dept=\"CSE\"):\n",
        "        self.name = name\n",
        "        self.id = id\n",
        "        self.dept = dept\n",
        "    \n",
        "    def dailyEffort(self, hrs):\n",
        "        self.hrs = hrs\n",
        "    \n",
        "    def printDetails(self):\n",
        "        print(\"Name: \" + self.name)\n",
        "        print(\"ID: \" + str(self.id))\n",
        "        print(\"Department: \" + self.dept)\n",
        "        print(\"Daily Effort: \" + str(self.hrs) + \" hour(s)\")\n",
        "        print(\"Suggestion: \", end=\" \")\n",
        "\n",
        "        if (self.hrs <= 2):\n",
        "            print(\"Should give more effort!\")\n",
        "        elif (self.hrs <= 4):\n",
        "            print(\"Keep up the good work!\")\n",
        "        else:\n",
        "            print(\"Excellent! Now motivate others.\")\n",
        "            \n",
        "harry = Student('Harry Potter', 123)\n",
        "harry.dailyEffort(3)\n",
        "harry.printDetails()\n",
        "print('========================')\n",
        "john = Student(\"John Wick\", 456, \"BBA\")\n",
        "john.dailyEffort(2)\n",
        "john.printDetails()\n",
        "print('========================')\n",
        "naruto = Student(\"Naruto Uzumaki\", 777, \"Ninja\")\n",
        "naruto.dailyEffort(6)\n",
        "naruto.printDetails()\n"
      ],
      "execution_count": null,
      "outputs": [
        {
          "output_type": "stream",
          "text": [
            "Name: Harry Potter\n",
            "ID: 123\n",
            "Department: CSE\n",
            "Daily Effort: 3 hour(s)\n",
            "Suggestion:  Keep up the good work!\n",
            "========================\n",
            "Name: John Wick\n",
            "ID: 456\n",
            "Department: BBA\n",
            "Daily Effort: 2 hour(s)\n",
            "Suggestion:  Should give more effort!\n",
            "========================\n",
            "Name: Naruto Uzumaki\n",
            "ID: 777\n",
            "Department: Ninja\n",
            "Daily Effort: 6 hour(s)\n",
            "Suggestion:  Excellent! Now motivate others.\n"
          ],
          "name": "stdout"
        }
      ]
    },
    {
      "cell_type": "code",
      "metadata": {
        "colab": {
          "base_uri": "https://localhost:8080/"
        },
        "id": "OEdI4VsnQd_t",
        "outputId": "0ccbf8cd-d806-489f-e079-d65d974f3ed8"
      },
      "source": [
        "class Patient:\n",
        "    def __init__(self, name, age):\n",
        "        self.name = name\n",
        "        self.age = age\n",
        "        self.symptoms = []\n",
        "\n",
        "    def add_Symptom(self, *args):\n",
        "        for sym in args:\n",
        "            self.symptoms.append(sym)\n",
        "    \n",
        "    def printPatientDetail(self):\n",
        "        print(\"Name: \" + self.name)\n",
        "        print(\"Age \" + str(self.age))\n",
        "        print(\"Symptoms:\", end = \" \")\n",
        "        for i in range(len(self.symptoms) - 1):\n",
        "            print(self.symptoms[i], end=\", \")\n",
        "        print(self.symptoms[len(self.symptoms) - 1])\n",
        "\n",
        "p1 = Patient(\"Thomas\", 23)\n",
        "p1.add_Symptom(\"Headache\")\n",
        "p2 = Patient(\"Carol\", 20)\n",
        "p2.add_Symptom(\"Vomiting\", \"Coughing\")\n",
        "p3 = Patient(\"Mike\", 25)\n",
        "p3.add_Symptom(\"Fever\", \"Headache\", \"Coughing\")\n",
        "print(\"=========================\")\n",
        "p1.printPatientDetail()\n",
        "print(\"=========================\")\n",
        "p2.printPatientDetail()\n",
        "print(\"=========================\")\n",
        "p3.printPatientDetail()\n",
        "print(\"=========================\")\n",
        "\n"
      ],
      "execution_count": null,
      "outputs": [
        {
          "output_type": "stream",
          "text": [
            "=========================\n",
            "Name: Thomas\n",
            "Age 23\n",
            "Symptoms: Headache\n",
            "=========================\n",
            "Name: Carol\n",
            "Age 20\n",
            "Symptoms: Vomiting, Coughing\n",
            "=========================\n",
            "Name: Mike\n",
            "Age 25\n",
            "Symptoms: Fever, Headache, Coughing\n",
            "=========================\n"
          ],
          "name": "stdout"
        }
      ]
    },
    {
      "cell_type": "code",
      "metadata": {
        "colab": {
          "base_uri": "https://localhost:8080/"
        },
        "id": "JmCcHboRVwRh",
        "outputId": "9ff0138a-1f07-44fc-9907-4036074d3d45"
      },
      "source": [
        "class Avengers:\n",
        "    def __init__(self, name, partner_name):\n",
        "        self.name = name\n",
        "        self.partner_name = partner_name\n",
        "        self.powers = []\n",
        "\n",
        "    def super_powers(self, *args):\n",
        "        for power in args:\n",
        "            self.powers.append(power)\n",
        "    \n",
        "    def printAvengersDetail(self):\n",
        "        print(\"Name: \" + self.name)\n",
        "        print(\"Partner: \" + self.partner_name)\n",
        "        print(\"Super powers:\", end = \" \")\n",
        "        for i in range(len(self.powers) - 1):\n",
        "            print(self.powers[i], end=\", \")\n",
        "        print(self.powers[len(self.powers) - 1])\n",
        "\n",
        "a1 = Avengers('Captain America', 'Bucky Barnes')\n",
        "a1.super_powers('Stamina', 'Slowed ageing')\n",
        "a2 = Avengers('Doctor Strange', 'Ancient One')\n",
        "a2.super_powers('Mastery of magic')\n",
        "a3 = Avengers('Iron Man', 'War Machine')\n",
        "a3.super_powers('Genius level intellect', 'Scientist ')\n",
        "print(\"=========================\")\n",
        "a1.printAvengersDetail()\n",
        "print(\"=========================\")\n",
        "a2.printAvengersDetail()\n",
        "print(\"=========================\")\n",
        "a3.printAvengersDetail()\n",
        "print(\"=========================\")\n"
      ],
      "execution_count": null,
      "outputs": [
        {
          "output_type": "stream",
          "text": [
            "=========================\n",
            "Name: Captain America\n",
            "Partner: Bucky Barnes\n",
            "Super powers: Stamina, Slowed ageing\n",
            "=========================\n",
            "Name: Doctor Strange\n",
            "Partner: Ancient One\n",
            "Super powers: Mastery of magic\n",
            "=========================\n",
            "Name: Iron Man\n",
            "Partner: War Machine\n",
            "Super powers: Genius level intellect, Scientist \n",
            "=========================\n"
          ],
          "name": "stdout"
        }
      ]
    },
    {
      "cell_type": "code",
      "metadata": {
        "colab": {
          "base_uri": "https://localhost:8080/"
        },
        "id": "BEfgg7csNcG3",
        "outputId": "90c0df55-5fd9-4eb0-cbd3-02a9e4619e6a"
      },
      "source": [
        "class ParcelKoro:\n",
        "    def __init__(self, name = \"No name set\", weight = 0):\n",
        "        self.product_weight = weight\n",
        "        self.name = name\n",
        "        self.total_fee = 0\n",
        "\n",
        "    def calculateFee(self, location = None):\n",
        "        if location == None:\n",
        "            locationCharge = 50\n",
        "        else:\n",
        "            locationCharge = 100\n",
        "        self.total_fee = self.product_weight * 20 + locationCharge\n",
        "        if (self.product_weight == 0): self.total_fee = 0\n",
        "        \n",
        "            \n",
        "    def printDetails(self):\n",
        "        print('Customer Name:', self.name)\n",
        "        print('Product Weight:', self.product_weight)\n",
        "        print('Total fee:', self.total_fee)\n",
        "\n",
        "print(\"**********************\")\n",
        "p1 = ParcelKoro()\n",
        "p1.calculateFee()\n",
        "p1.printDetails()\n",
        "print(\"**********************\")\n",
        "p2 = ParcelKoro('Bob The Builder')\n",
        "p2.calculateFee()\n",
        "p2.printDetails()\n",
        "print(\"----------------------------\")\n",
        "p2.product_weight = 15\n",
        "p2.calculateFee()\n",
        "p2.printDetails()\n",
        "print(\"**********************\")\n",
        "p3 = ParcelKoro('Dora The Explorer', 10)\n",
        "p3.calculateFee('Dhanmondi')\n",
        "p3.printDetails()"
      ],
      "execution_count": null,
      "outputs": [
        {
          "output_type": "stream",
          "text": [
            "**********************\n",
            "Customer Name: No name set\n",
            "Product Weight: 0\n",
            "Total fee: 0\n",
            "**********************\n",
            "Customer Name: Bob The Builder\n",
            "Product Weight: 0\n",
            "Total fee: 0\n",
            "----------------------------\n",
            "Customer Name: Bob The Builder\n",
            "Product Weight: 15\n",
            "Total fee: 350\n",
            "**********************\n",
            "Customer Name: Dora The Explorer\n",
            "Product Weight: 10\n",
            "Total fee: 300\n"
          ],
          "name": "stdout"
        }
      ]
    },
    {
      "cell_type": "code",
      "metadata": {
        "colab": {
          "base_uri": "https://localhost:8080/"
        },
        "id": "csOc_eV2RU7S",
        "outputId": "8cc11155-bfe8-4083-f945-8076295a6c85"
      },
      "source": [
        "class Batsman:\n",
        "    def __init__(self, runs, balls, name = \"New Batsman\"):\n",
        "        self.name = name\n",
        "        self.runs = int(runs)\n",
        "        self.balls = int(balls)\n",
        "\n",
        "    def battingStrikeRate(self):\n",
        "        return (self.runs/self.balls)*100\n",
        "\n",
        "    def setName(self, name):\n",
        "        self.name = name\n",
        "\n",
        "    def printCareerStatistics(self):\n",
        "        print(\"Name:\", self.name)\n",
        "        print('Runs Scored:', self.runs, ', Balls Faced:', self.balls)\n",
        "\n",
        "b1 = Batsman(6101, 7380)\n",
        "b1.printCareerStatistics()\n",
        "print(\"============================\")\n",
        "b2 = Batsman(678, 773, \"Liton Das\")\n",
        "b2.printCareerStatistics()\n",
        "print(\"----------------------------\")\n",
        "print(b2.battingStrikeRate())\n",
        "print(\"============================\")\n",
        "b1.setName(\"Shakib Al Hasan\")\n",
        "b1.printCareerStatistics()\n",
        "print(\"----------------------------\")\n",
        "print(b1.battingStrikeRate())\n"
      ],
      "execution_count": null,
      "outputs": [
        {
          "output_type": "stream",
          "text": [
            "Name: New Batsman\n",
            "Runs Scored: 6101 , Balls Faced: 7380\n",
            "============================\n",
            "Name: Liton Das\n",
            "Runs Scored: 678 , Balls Faced: 773\n",
            "----------------------------\n",
            "87.71021992238033\n",
            "============================\n",
            "Name: Shakib Al Hasan\n",
            "Runs Scored: 6101 , Balls Faced: 7380\n",
            "----------------------------\n",
            "82.66937669376694\n"
          ],
          "name": "stdout"
        }
      ]
    },
    {
      "cell_type": "code",
      "metadata": {
        "colab": {
          "base_uri": "https://localhost:8080/"
        },
        "id": "PRanvGHMUWzc",
        "outputId": "9e83e573-b036-4aeb-92c9-638b0d2e8af8"
      },
      "source": [
        "class EPL_Team:\n",
        "    def __init__(self, name, song = 'No Slogan'):\n",
        "        self.name = name\n",
        "        self.song = song\n",
        "        self.title = 0\n",
        "\n",
        "    def increaseTitle(self):\n",
        "        self.title += 1\n",
        "\n",
        "    def changeSong(self, song):\n",
        "        self.song = song\n",
        "\n",
        "    def showClubInfo(self):\n",
        "        return \"Name: \" + self.name + \"\\n\" + \"Song: \" + self.song + \"\\n\" + \"Total No of title: \" + str(self.title)\n",
        "\n",
        "\n",
        "manu = EPL_Team('Manchester United', 'Glory Glory Man United')\n",
        "chelsea = EPL_Team('Chelsea')\n",
        "print('===================')\n",
        "print(manu.showClubInfo())\n",
        "print('##################')\n",
        "manu.increaseTitle()\n",
        "print(manu.showClubInfo())\n",
        "print('===================')\n",
        "print(chelsea.showClubInfo())\n",
        "chelsea.changeSong('Keep the blue flag flying high')\n",
        "print(chelsea.showClubInfo())"
      ],
      "execution_count": null,
      "outputs": [
        {
          "output_type": "stream",
          "text": [
            "===================\n",
            "Name: Manchester United\n",
            "Song: Glory Glory Man United\n",
            "Total No of title: 0\n",
            "##################\n",
            "Name: Manchester United\n",
            "Song: Glory Glory Man United\n",
            "Total No of title: 1\n",
            "===================\n",
            "Name: Chelsea\n",
            "Song: No Slogan\n",
            "Total No of title: 0\n",
            "Name: Chelsea\n",
            "Song: Keep the blue flag flying high\n",
            "Total No of title: 0\n"
          ],
          "name": "stdout"
        }
      ]
    },
    {
      "cell_type": "code",
      "metadata": {
        "colab": {
          "base_uri": "https://localhost:8080/"
        },
        "id": "Q04StMJTW5p5",
        "outputId": "81ca6029-7244-4e3d-8fec-c8e095e85e19"
      },
      "source": [
        "class Account:\n",
        "    def __init__(self, name = \"Default Account\", balance = 0.0):\n",
        "        self.name = name\n",
        "        self.balance = float(balance)\n",
        "\n",
        "    def details(self):\n",
        "        return self.name + \"\\n\" + str(float(self.balance))\n",
        "\n",
        "    def withdraw(self, amount):\n",
        "        if (self.balance - amount > 3070.0):\n",
        "            self.balance -= amount\n",
        "            print(\"Withdraw successful! New balance is: {}\".format(self.balance))\n",
        "        else:\n",
        "            print(\"Sorry, Withdraw unsuccessful! The account balance after deducting withdraw amount is equal to or less than minimum.\")\n",
        "\n",
        "a1 = Account()\n",
        "print(a1.details())\n",
        "print(\"------------------------\")\n",
        "a1.name = \"Oliver\"\n",
        "a1.balance = 10000.0\n",
        "print(a1.details())\n",
        "print(\"------------------------\")\n",
        "a2 = Account(\"Liam\")\n",
        "print(a2.details())\n",
        "print(\"------------------------\")\n",
        "a3 = Account(\"Noah\",400)\n",
        "print(a3.details())\n",
        "print(\"------------------------\")\n",
        "a1.withdraw(6930);\n",
        "print(\"------------------------\")\n",
        "a2.withdraw(600);\n",
        "print(\"------------------------\")\n",
        "a1.withdraw(6929)"
      ],
      "execution_count": null,
      "outputs": [
        {
          "output_type": "stream",
          "text": [
            "('Default Account\\n', '0.0')\n",
            "------------------------\n",
            "('Oliver\\n', '10000.0')\n",
            "------------------------\n",
            "('Liam\\n', '0.0')\n",
            "------------------------\n",
            "('Noah\\n', '400.0')\n",
            "------------------------\n",
            "Sorry, Withdraw unsuccessful! The account balance after deducting withdraw amount is equal to or less than minimum.\n",
            "------------------------\n",
            "Sorry, Withdraw unsuccessful! The account balance after deducting withdraw amount is equal to or less than minimum.\n",
            "------------------------\n",
            "Withdraw successful! New balance is: 3071.0\n"
          ],
          "name": "stdout"
        }
      ]
    },
    {
      "cell_type": "code",
      "metadata": {
        "colab": {
          "base_uri": "https://localhost:8080/"
        },
        "id": "imdzMOr0xRzt",
        "outputId": "72826cde-a548-4dcd-baba-7a06ef0f79a9"
      },
      "source": [
        "class Movie:\n",
        "    def __init__(self, dir_name = None):\n",
        "        self.dir_name = dir_name\n",
        "        self.mov_list = {}\n",
        "        self.mov_count = 0\n",
        "\n",
        "    def add_movie(self, mov_name, genre, whatever):\n",
        "        if (self.dir_name == None):\n",
        "            print(\"Please add a director name first\")\n",
        "            return\n",
        "        if (self.mov_list.get(genre) == None):\n",
        "            self.mov_list[genre] = []\n",
        "            self.mov_list[genre].append(mov_name)\n",
        "        else:\n",
        "            self.mov_list[genre].append(mov_name)\n",
        "        self.mov_count += 1\n",
        "\n",
        "    def set_director_name(self, dir_name):\n",
        "        self.dir_name = dir_name\n",
        "\n",
        "    def print_details(self):\n",
        "        print(\"Number of Movie(s):\", self.mov_count)\n",
        "        print(\"Director Name:\", self.dir_name)\n",
        "        for gen in self.mov_list:\n",
        "            print(gen + \":\", end=\" \")\n",
        "            gen_list = self.mov_list.get(gen)\n",
        "            for i in range(len(gen_list)-1):\n",
        "                print(gen_list[i] + \", \", end = \"\")\n",
        "            print(gen_list[len(gen_list)-1])\n",
        "\n",
        "\n",
        "a1 = Movie()\n",
        "print(\"=================================\")\n",
        "a1.add_movie('Raising Arizona', 'Comedy-Crime', 29.2)\n",
        "print(\"=================================\")\n",
        "a1.set_director_name('Joel Coen')\n",
        "a1.add_movie('Raising Arizona', 'Comedy-Crime', 29.2)\n",
        "a1.print_details()\n",
        "print(\"=================================\")\n",
        "a1.add_movie('The Big Lebowski', 'Comedy-Crime', 46.7)\n",
        "a1.add_movie('True Grit', 'Western-Drama', 252.2)\n",
        "a1.print_details()\n",
        "print(\"=================================\")\n",
        "a2 = Movie('Marc Forster')\n",
        "a2.add_movie('Machine Gun Preacher', 'Action', 3.3)\n",
        "a2.add_movie('Quantum of Solace', 'Action', 589.6)\n",
        "a2.print_details()\n",
        "print(\"=================================\")"
      ],
      "execution_count": null,
      "outputs": [
        {
          "output_type": "stream",
          "text": [
            "=================================\n",
            "Please add a director name first\n",
            "=================================\n",
            "Number of Movie(s): 1\n",
            "Director Name: Joel Coen\n",
            "Comedy-Crime: Raising Arizona\n",
            "=================================\n",
            "Number of Movie(s): 3\n",
            "Director Name: Joel Coen\n",
            "Comedy-Crime: Raising Arizona, The Big Lebowski\n",
            "Western-Drama: True Grit\n",
            "=================================\n",
            "Number of Movie(s): 2\n",
            "Director Name: Marc Forster\n",
            "Action: Machine Gun Preacher, Quantum of Solace\n",
            "=================================\n"
          ],
          "name": "stdout"
        }
      ]
    },
    {
      "cell_type": "code",
      "metadata": {
        "colab": {
          "base_uri": "https://localhost:8080/"
        },
        "id": "F2F47jAT9l6A",
        "outputId": "f1761ceb-c082-495b-c653-bf1898605d80"
      },
      "source": [
        "class Movie:\n",
        "    def __init__(self, directorName = None):\n",
        "        self.directorName = directorName\n",
        "        self.movieDic = {}\n",
        "        self.movieCount = 0\n",
        "\n",
        "    def set_director_name(self, directorName):\n",
        "        self.directorName = directorName\n",
        "\n",
        "    def add_movie(self, movieName, genre, rating):\n",
        "        if (self.directorName == None):\n",
        "            print(\"Please add a director name first\")\n",
        "            return\n",
        "        if (self.movieDic.get(genre) == None):\n",
        "            self.movieDic[genre] = []\n",
        "            self.movieDic[genre].append(movieName)\n",
        "        else:\n",
        "            self.movieDic[genre].append(movieName)\n",
        "        self.movieCount += 1\n",
        "\n",
        "    def print_details(self):\n",
        "        print(\"Number of Movie(s):\", self.movieCount)\n",
        "        print(\"Director Name:\", self.directorName)\n",
        "        for k in self.movieDic:\n",
        "            print(k + \":\", end=\" \")\n",
        "            genreWise = self.movieDic.get(k)\n",
        "            for i in range(len(genreWise)-1):\n",
        "                print(genreWise[i] + \", \", end = \"\")\n",
        "            print(genreWise[len(genreWise)-1])\n",
        "\n",
        "\n",
        "a1 = Movie()\n",
        "print(\"=================================\")\n",
        "a1.add_movie('Raising Arizona', 'Comedy-Crime', 29.2)\n",
        "print(\"=================================\")\n",
        "a1.set_director_name('Joel Coen')\n",
        "a1.add_movie('Raising Arizona', 'Comedy-Crime', 29.2)\n",
        "a1.print_details()\n",
        "print(\"=================================\")\n",
        "a1.add_movie('The Big Lebowski', 'Comedy-Crime', 46.7)\n",
        "a1.add_movie('True Grit', 'Western-Drama', 252.2)\n",
        "a1.print_details()\n",
        "print(\"=================================\")\n",
        "a2 = Movie('Marc Forster')\n",
        "a2.add_movie('Machine Gun Preacher', 'Action', 3.3)\n",
        "a2.add_movie('Quantum of Solace', 'Action', 589.6)\n",
        "a2.print_details()\n",
        "print(\"=================================\")"
      ],
      "execution_count": null,
      "outputs": [
        {
          "output_type": "stream",
          "text": [
            "=================================\n",
            "Please add a director name first\n",
            "=================================\n",
            "Number of Movie(s): 1\n",
            "Director Name: Joel Coen\n",
            "Comedy-Crime: Raising Arizona\n",
            "=================================\n",
            "Number of Movie(s): 3\n",
            "Director Name: Joel Coen\n",
            "Comedy-Crime: Raising Arizona, The Big Lebowski\n",
            "Western-Drama: True Grit\n",
            "=================================\n",
            "Number of Movie(s): 2\n",
            "Director Name: Marc Forster\n",
            "Action: Machine Gun Preacher, Quantum of Solace\n",
            "=================================\n"
          ],
          "name": "stdout"
        }
      ]
    },
    {
      "cell_type": "code",
      "metadata": {
        "colab": {
          "base_uri": "https://localhost:8080/"
        },
        "id": "0guhBxHiKVVC",
        "outputId": "53563ea6-0e47-4c50-86ff-c2632200d93f"
      },
      "source": [
        "class Library:\n",
        "    def __init__(self, name):\n",
        "        self.name = name\n",
        "        self.book_list= []\n",
        "    \n",
        "    def addBook(self, *books):\n",
        "        for book in books:\n",
        "            if (book.isbn == None):\n",
        "                print(\"A book without ISBN cannot be added\")\n",
        "            else:\n",
        "                print(\"Book with ISBN: {} added\".format(book.isbn))\n",
        "                self.book_list.append(book)\n",
        "\n",
        "\n",
        "    def printBooks(self):\n",
        "        print(\"Total Books:\", len(self.book_list))\n",
        "        for book in self.book_list:\n",
        "            print(\"Book name:\" + book.name, end=\" \")\n",
        "            print(\"Writer:\" + book.writer, end=\" \")\n",
        "            print(\"ISBN no:\" + book.isbn)\n",
        "\n",
        "\n",
        "\n",
        "class Book:\n",
        "    def __init__(self, name, writer, isbn=None):\n",
        "        self.name = name\n",
        "        self.writer = writer\n",
        "        self.isbn = isbn\n",
        "    \n",
        "    def setISBN(self, isbn):\n",
        "        self.isbn = isbn\n",
        "\n",
        "\n",
        "obj = Library(\"Ayesha Abed Library\")\n",
        "b1 = Book(\"Teach yourself C\",\"Herbet Schildt\",\"0078823110\")\n",
        "print(\"=================================\")\n",
        "obj.addBook(b1)\n",
        "print(\"=================================\")\n",
        "obj.printBooks()\n",
        "print(\"=================================\")\n",
        "b2 = Book(\"Java:How to program\",\"Deitel & Deitel\")\n",
        "b3 = Book(\"Python Crash Course\",\"Eric Hatthes\",\"1593279280\")\n",
        "print(\"=================================\")\n",
        "obj.addBook(b2,b3)\n",
        "print(\"=================================\")\n",
        "obj.printBooks()\n",
        "print(\"=================================\")\n",
        "b2.setISBN(\"0134791401\")\n",
        "print(\"=================================\")\n",
        "obj.addBook(b2)\n",
        "print(\"=================================\")\n",
        "obj.printBooks()\n",
        "print(\"=================================\")\n",
        "b4 = Book(\"Automate the boring stuff with Python\",\"Al Sweigart\",\"1593279922\")\n",
        "b5 = Book(\"Teach yourself C++\",\"Herbet Schildt\",\"0078820251\")\n",
        "print(\"=================================\")\n",
        "obj.addBook(b4,b5)\n",
        "print(\"=================================\")\n",
        "obj.printBooks()\n",
        "print(\"=================================\")"
      ],
      "execution_count": null,
      "outputs": [
        {
          "output_type": "stream",
          "text": [
            "=================================\n",
            "Book with ISBN: 0078823110 added\n",
            "=================================\n",
            "Total Books: 1\n",
            "Book name:Teach yourself C Writer:Herbet Schildt ISBN no:0078823110\n",
            "=================================\n",
            "=================================\n",
            "A book without ISBN cannot be added\n",
            "Book with ISBN: 1593279280 added\n",
            "=================================\n",
            "Total Books: 2\n",
            "Book name:Teach yourself C Writer:Herbet Schildt ISBN no:0078823110\n",
            "Book name:Python Crash Course Writer:Eric Hatthes ISBN no:1593279280\n",
            "=================================\n",
            "=================================\n",
            "Book with ISBN: 0134791401 added\n",
            "=================================\n",
            "Total Books: 3\n",
            "Book name:Teach yourself C Writer:Herbet Schildt ISBN no:0078823110\n",
            "Book name:Python Crash Course Writer:Eric Hatthes ISBN no:1593279280\n",
            "Book name:Java:How to program Writer:Deitel & Deitel ISBN no:0134791401\n",
            "=================================\n",
            "=================================\n",
            "Book with ISBN: 1593279922 added\n",
            "Book with ISBN: 0078820251 added\n",
            "=================================\n",
            "Total Books: 5\n",
            "Book name:Teach yourself C Writer:Herbet Schildt ISBN no:0078823110\n",
            "Book name:Python Crash Course Writer:Eric Hatthes ISBN no:1593279280\n",
            "Book name:Java:How to program Writer:Deitel & Deitel ISBN no:0134791401\n",
            "Book name:Automate the boring stuff with Python Writer:Al Sweigart ISBN no:1593279922\n",
            "Book name:Teach yourself C++ Writer:Herbet Schildt ISBN no:0078820251\n",
            "=================================\n"
          ],
          "name": "stdout"
        }
      ]
    },
    {
      "cell_type": "code",
      "metadata": {
        "colab": {
          "base_uri": "https://localhost:8080/"
        },
        "id": "KJifqSnxUTNi",
        "outputId": "54bdb8a8-811b-4506-b85f-6e9908968885"
      },
      "source": [
        "n = int(input(\"Enter the network part: \"))\n",
        "input_list = input(\"Enter the list of ips: \")\n",
        "\n",
        "ip_list = [num for num in input_list.split(',')]\n",
        "\n",
        "dic = {}\n",
        "\n",
        "for ip in ip_list:\n",
        "    sec_list = [num for num in ip.split('.')]\n",
        "\n",
        "    sp_ip = sec_list[0]\n",
        "    for i in range(n-1):\n",
        "        sp_ip += '.' + sec_list[i + 1]\n",
        "\n",
        "    if (dic.get(sp_ip) == None):\n",
        "        for j in range(4 - n):\n",
        "            sp_ip += '.' + \"0\"\n",
        "        dic[sp_ip] = []\n",
        "    dic[sp_ip].append(ip)\n",
        "\n",
        "\n",
        "print(dic)\n",
        "\n",
        "\n"
      ],
      "execution_count": null,
      "outputs": [
        {
          "output_type": "stream",
          "text": [
            "Enter the network part: 2\n",
            "Enter the list of ips: 123.3454.454.343,484.94.994.9,994.44.4.44,444.65.6.354\n",
            "{'123.3454.0.0': ['123.3454.454.343'], '484.94.0.0': ['484.94.994.9'], '994.44.0.0': ['994.44.4.44'], '444.65.0.0': ['444.65.6.354']}\n"
          ],
          "name": "stdout"
        }
      ]
    },
    {
      "cell_type": "code",
      "metadata": {
        "colab": {
          "base_uri": "https://localhost:8080/"
        },
        "id": "-I4Aqzyu0kuX",
        "outputId": "aa583b98-9a9c-444a-9686-3fca70d1cab0"
      },
      "source": [
        "class Player:\n",
        "    def __init__(self, player_name):\n",
        "        self.player_name = player_name\n",
        "\n",
        "class Team:\n",
        "    def __init__(self, team_name = None):\n",
        "        self.__team_name = team_name\n",
        "        self.__list_of_players = []\n",
        "\n",
        "    def setName(self, name):\n",
        "        self.__team_name = name\n",
        "\n",
        "    def addPlayer(self, plr):\n",
        "        self.__list_of_players.append(plr.player_name)\n",
        "\n",
        "    def printDetail(self):\n",
        "        print('====================================')\n",
        "        print('Team:', self.__team_name)\n",
        "        print(\"List of Players:\")\n",
        "        print(self.__list_of_players)\n",
        "        print('====================================')\n",
        "\n",
        "\n",
        "b = Team()\n",
        "b.setName('Bangladesh')\n",
        "mashrafi = Player(\"Mashrafi\")\n",
        "b.addPlayer(mashrafi)\n",
        "tamim = Player(\"Tamim\")\n",
        "b.addPlayer(tamim)\n",
        "b.printDetail()\n",
        "a = Team(\"Australia\")\n",
        "ponting = Player(\"Ponting\")\n",
        "a.addPlayer(ponting)\n",
        "lee = Player(\"Lee\")\n",
        "a.addPlayer(lee)\n",
        "a.printDetail()"
      ],
      "execution_count": null,
      "outputs": [
        {
          "output_type": "stream",
          "text": [
            "====================================\n",
            "Team: Bangladesh\n",
            "List of Players:\n",
            "['Mashrafi', 'Tamim']\n",
            "====================================\n",
            "====================================\n",
            "Team: Australia\n",
            "List of Players:\n",
            "['Ponting', 'Lee']\n",
            "====================================\n"
          ],
          "name": "stdout"
        }
      ]
    },
    {
      "cell_type": "code",
      "metadata": {
        "colab": {
          "base_uri": "https://localhost:8080/"
        },
        "id": "L4ifggy0Elo9",
        "outputId": "46b3f057-19f5-4717-e03e-a90e5e2bf5f3"
      },
      "source": [
        "class Color:\n",
        "    def __init__(self,clr):\n",
        "        self.clr = clr\n",
        "    def __add__(self,rest):\n",
        "        if (self.clr=='red' and rest.clr=='yellow') or (self.clr=='yellow' and rest.clr=='red') :\n",
        "            return Color('Orange')\n",
        "        elif (self.clr=='red' and rest.clr=='blue') or (self.clr=='blue' and rest.clr=='red'):\n",
        "            return Color('Violet')\n",
        "        elif (self.clr=='yellow' and rest.clr=='blue') or (self.clr=='blue' and rest.clr=='yellow'):\n",
        "            return Color('Green')\n",
        "C1 = Color(input(\"First Color: \").lower())\n",
        "C2 = Color(input(\"Second Color: \").lower())\n",
        "C3 = C1 + C2\n",
        "print(\"Color formed:\", C3.clr)"
      ],
      "execution_count": null,
      "outputs": [
        {
          "output_type": "stream",
          "text": [
            "First Color: red\n",
            "Second Color: blue\n",
            "Color formed: Violet\n"
          ],
          "name": "stdout"
        }
      ]
    },
    {
      "cell_type": "code",
      "metadata": {
        "colab": {
          "base_uri": "https://localhost:8080/"
        },
        "id": "UBz_Lq_jGrHL",
        "outputId": "1aaf151a-be2f-4d71-dd6e-0d5952c30d84"
      },
      "source": [
        "class Dolls:\n",
        "    def __init__(self, dollname, dollprice, wrd=\"Doll\"):\n",
        "        self.dollname = dollname\n",
        "        self.dollprice = dollprice\n",
        "        self.wrd = wrd\n",
        "\n",
        "    def __add__(self, other):\n",
        "        dollnames = self.dollname + \" \" + other.dollname\n",
        "        total_price = self.dollprice + other.dollprice\n",
        "        return Dolls(dollnames, total_price, \"Dolls\")\n",
        "    \n",
        "    def __gt__(self, other):\n",
        "        if self.dollprice > other.dollprice:\n",
        "            return True\n",
        "        else:\n",
        "            return False\n",
        "\n",
        "    def detail(self):\n",
        "        return self.wrd + \": \" + self.dollname + \"\\n\" + \"Total Price: \" + str(self.dollprice) + \" taka\"\n",
        "\n",
        "\n",
        "obj_1 = Dolls(\"Tweety\", 2500)\n",
        "print(obj_1.detail())\n",
        "if obj_1 > obj_1:\n",
        " print(\"Congratulations! You get the Tweety as a gift!\")\n",
        "else:\n",
        " print(\"Thank you!\")\n",
        "print(\"=========================\")\n",
        "obj_2 = Dolls(\"Daffy Duck\", 1800) \n",
        "print(obj_2.detail())\n",
        "if obj_2 > obj_1:\n",
        " print(\"Congratulations! You get the Tweety as a gift!\")\n",
        "else:\n",
        " print(\"Thank you!\")\n",
        "print(\"=========================\")\n",
        "obj_3 = Dolls(\"Bugs Bunny\", 3000)\n",
        "print(obj_3.detail())\n",
        "if obj_3 > obj_1:\n",
        " print(\"Congratulations! You get the Tweety as a gift!\")\n",
        "else:\n",
        " print(\"Thank you!\")\n",
        "print(\"=========================\")\n",
        "obj_4 = Dolls(\"Porky Pig\", 1500)\n",
        "print(obj_4.detail())\n",
        "if obj_4 > obj_1:\n",
        " print(\"Congratulations! You get the Tweety as a gift!\")\n",
        "else:\n",
        " print(\"Thank you!\")\n",
        "print(\"=========================\")\n",
        "obj_5 = obj_2 + obj_3\n",
        "print(obj_5.detail())\n",
        "if obj_5 > obj_1:\n",
        " print(\"Congratulations! You get the Tweety as a gift!\")\n",
        "else:\n",
        " print(\"Thank you!\")\n"
      ],
      "execution_count": null,
      "outputs": [
        {
          "output_type": "stream",
          "text": [
            "Doll: Tweety\n",
            "Total Price: 2500 taka\n",
            "Thank you!\n",
            "=========================\n",
            "Doll: Daffy Duck\n",
            "Total Price: 1800 taka\n",
            "Thank you!\n",
            "=========================\n",
            "Doll: Bugs Bunny\n",
            "Total Price: 3000 taka\n",
            "Congratulations! You get the Tweety as a gift!\n",
            "=========================\n",
            "Doll: Porky Pig\n",
            "Total Price: 1500 taka\n",
            "Thank you!\n",
            "=========================\n",
            "Dolls: Daffy Duck Bugs Bunny\n",
            "Total Price: 4800 taka\n",
            "Congratulations! You get the Tweety as a gift!\n"
          ],
          "name": "stdout"
        }
      ]
    },
    {
      "cell_type": "code",
      "metadata": {
        "colab": {
          "base_uri": "https://localhost:8080/"
        },
        "id": "K460P0d-NIg2",
        "outputId": "164319aa-9ca7-47b6-b96a-e275462fa165"
      },
      "source": [
        "class Coordinates:\n",
        "    def __init__(self, x, y):\n",
        "        self.x = x\n",
        "        self.y = y\n",
        "    def __sub__(self, rest):\n",
        "        return Coordinates(self.x - rest.x, self.y - rest.y)\n",
        "    def __mul__(self, rest):\n",
        "        return Coordinates(self.x * rest.x, self.y * rest.y)\n",
        "    def detail(self):\n",
        "        return \"(\" + str(self.x) + \",\" + str(self.y) + \")\"\n",
        "    def __eq__(self, rest):\n",
        "        if self.x == rest.x and self.y == rest.y:\n",
        "            return 'The calculated coordinates are the same.'\n",
        "        else:\n",
        "            return 'The calculated coordinates are NOT the same.'\n",
        "\n",
        "p1 = Coordinates(int(input()),int(input()))\n",
        "p2 = Coordinates(int(input()),int(input()))\n",
        "p4 = p1 - p2\n",
        "print(p4.detail())\n",
        "p5 = p1 * p2\n",
        "print(p5.detail())\n",
        "point_check = (p4 == p5)\n",
        "print(point_check)"
      ],
      "execution_count": null,
      "outputs": [
        {
          "output_type": "stream",
          "text": [
            "0\n",
            "0\n",
            "0\n",
            "0\n",
            "(0,0)\n",
            "(0,0)\n",
            "The calculated coordinates are the same.\n"
          ],
          "name": "stdout"
        }
      ]
    },
    {
      "cell_type": "code",
      "metadata": {
        "colab": {
          "base_uri": "https://localhost:8080/"
        },
        "id": "Vgb74lssPlKU",
        "outputId": "5c65f96a-468c-4d54-dbb6-70588f31289c"
      },
      "source": [
        "class Assassin:\n",
        "    NumberOfAssassins = 0\n",
        "    def __init__(self, name, successRate):\n",
        "        self.name = name\n",
        "        self.successRate = successRate\n",
        "        Assassin.NumberOfAssassins += 1\n",
        "    \n",
        "    @classmethod\n",
        "    def failureRate(cls, name, failure):\n",
        "        return cls(name, 100 - failure)\n",
        "\n",
        "    @classmethod\n",
        "    def failurePercentage(cls, name, failure):\n",
        "        return cls(name, 100 - failure)\n",
        "\n",
        "    def printDetails(self):\n",
        "        print(\"Name:\", self.name)\n",
        "        print(\"Success rate: \" + str(self.successRate) + \"%\")\n",
        "        print(\"Total number of Assassin:\", Assassin.NumberOfAssassins)\n",
        "\n",
        "john_wick = Assassin('John Wick', 100)\n",
        "john_wick.printDetails()\n",
        "print('================================')\n",
        "nagisa = Assassin.failureRate(\"Nagisa\", 20)\n",
        "nagisa.printDetails()\n",
        "print('================================')\n",
        "akabane = Assassin.failurePercentage('Akabane', 10)\n",
        "akabane.printDetails()"
      ],
      "execution_count": null,
      "outputs": [
        {
          "output_type": "stream",
          "text": [
            "Name: John Wick\n",
            "Success rate: 100%\n",
            "Total number of Assassin: 1\n",
            "================================\n",
            "Name: Nagisa\n",
            "Success rate: 80%\n",
            "Total number of Assassin: 2\n",
            "================================\n",
            "Name: Akabane\n",
            "Success rate: 90%\n",
            "Total number of Assassin: 3\n"
          ],
          "name": "stdout"
        }
      ]
    },
    {
      "cell_type": "code",
      "metadata": {
        "colab": {
          "base_uri": "https://localhost:8080/"
        },
        "id": "Uy1Q-l7ohPTM",
        "outputId": "4d7cdcb0-c767-49a4-dd8c-7f80c2404a24"
      },
      "source": [
        "class Travel:\n",
        "    count = 0\n",
        "    def __init__(self, place1, place2):\n",
        "        self.place1 = place1\n",
        "        self.place2 = place2\n",
        "        Travel.count += 1\n",
        "        self.flight_time = 1\n",
        "    def set_destination(self, place):\n",
        "        self.place = place\n",
        "        self.place2 = place\n",
        "    def set_time(self, time):\n",
        "        self.time = time\n",
        "        self.flight_time = time\n",
        "    def set_source(self, place):\n",
        "        self.place = place\n",
        "        self.place1 = place\n",
        "    def display_travel_info(self):\n",
        "        return 'Source: '+ self.place1 + '\\n'  +  'Destination: ' + self.place2 + '\\n'  + 'Flight: ' + str(self.flight_time)+':00'\n",
        "print(\"No. of Traveller =\", Travel.count)\n",
        "print(\"=======================\")\n",
        "t1 = Travel(\"Dhaka\",\"India\")\n",
        "print(t1.display_travel_info())\n",
        "print(\"=======================\")\n",
        "t2 = Travel(\"Kuala Lampur\",\"Dhaka\")\n",
        "t2.set_time(23)\n",
        "print(t2.display_travel_info())\n",
        "print(\"=======================\")\n",
        "t3 = Travel(\"Dhaka\",\"New_Zealand\")\n",
        "t3.set_time(15)\n",
        "t3.set_destination(\"Germany\")\n",
        "print(t3.display_travel_info())\n",
        "print(\"=======================\")\n",
        "t4 = Travel(\"Dhaka\",\"India\")\n",
        "t4.set_time(9)\n",
        "t4.set_source(\"Malaysia\")\n",
        "t4.set_destination(\"Canada\")\n",
        "print(t4.display_travel_info())\n",
        "print(\"=======================\")\n",
        "print(\"No. of Traveller =\", Travel.count)"
      ],
      "execution_count": null,
      "outputs": [
        {
          "output_type": "stream",
          "text": [
            "No. of Traveller = 0\n",
            "=======================\n",
            "Source: Dhaka\n",
            "Destination: India\n",
            "Flight: 1:00\n",
            "=======================\n",
            "Source: Kuala Lampur\n",
            "Destination: Dhaka\n",
            "Flight: 23:00\n",
            "=======================\n",
            "Source: Dhaka\n",
            "Destination: Germany\n",
            "Flight: 15:00\n",
            "=======================\n",
            "Source: Malaysia\n",
            "Destination: Canada\n",
            "Flight: 9:00\n",
            "=======================\n",
            "No. of Traveller = 4\n"
          ],
          "name": "stdout"
        }
      ]
    },
    {
      "cell_type": "code",
      "metadata": {
        "colab": {
          "base_uri": "https://localhost:8080/"
        },
        "id": "EHGXRgmdjQZ_",
        "outputId": "a26f706a-5b8f-45dc-da90-1c5e8e16cd2b"
      },
      "source": [
        "class Laptop:\n",
        "    laptopCount = 0\n",
        "    def __init__(self, name, count):\n",
        "        self.name = name\n",
        "        self.count = count\n",
        "        Laptop.laptopCount += count\n",
        "    \n",
        "    @classmethod\n",
        "    def advantage(self):\n",
        "        print(\"Laptops are portable\")\n",
        "    \n",
        "    @classmethod\n",
        "    def resetCount(self):\n",
        "        Laptop.laptopCount = 0\n",
        "\n",
        "lenovo = Laptop(\"Lenovo\", 5);\n",
        "dell = Laptop(\"Dell\", 7);\n",
        "print(lenovo.name, lenovo.count)\n",
        "print(dell.name, dell.count)\n",
        "print(\"Total number of Laptops\", Laptop.laptopCount)\n",
        "Laptop.advantage()\n",
        "Laptop.resetCount()\n",
        "print(\"Total number of Laptops\", Laptop.laptopCount)"
      ],
      "execution_count": null,
      "outputs": [
        {
          "output_type": "stream",
          "text": [
            "Lenovo 5\n",
            "Dell 7\n",
            "Total number of Laptops 12\n",
            "Laptops are portable\n",
            "Total number of Laptops 0\n"
          ],
          "name": "stdout"
        }
      ]
    },
    {
      "cell_type": "code",
      "metadata": {
        "colab": {
          "base_uri": "https://localhost:8080/"
        },
        "id": "ALhxvgR-oUrj",
        "outputId": "189de226-d254-4366-ba97-977d2e2b26ce"
      },
      "source": [
        "import math\n",
        "class Cylinder:\n",
        "    radius = 5\n",
        "    height = 18\n",
        "    def __init__(self, radius, height):\n",
        "        print(\"Default radius=\" + str(Cylinder.radius) + \" and height=\" + str(Cylinder.height))\n",
        "        Cylinder.radius = radius\n",
        "        Cylinder.height = height\n",
        "        print(\"Updated radius=\" + str(Cylinder.radius) + \" and height=\" + str(Cylinder.height))\n",
        "    \n",
        "    @staticmethod\n",
        "    def area(r, h):\n",
        "        a = float(2 * math.pi * r * (r + h))\n",
        "        print(\"Area:\", a)\n",
        "    \n",
        "    @staticmethod\n",
        "    def volume(r, h):\n",
        "        v = float(math.pi * r * r * h)\n",
        "        print(\"Volume\", v)\n",
        "\n",
        "    @classmethod\n",
        "    def swap(self, height, radius):\n",
        "        return self(radius, height)\n",
        "\n",
        "    @classmethod\n",
        "    def changeFormat(self, s):\n",
        "        radius, height = s.split(\"-\")\n",
        "        return self(float(radius), float(height))\n",
        "\n",
        "c1 = Cylinder(0,0)\n",
        "Cylinder.area(c1.radius,c1.height)\n",
        "Cylinder.volume(c1.radius,c1.height)\n",
        "print(\"===============================\")\n",
        "c2 = Cylinder.swap(8,3)\n",
        "c2.area(c2.radius,c2.height)\n",
        "c2.volume(c2.radius,c2.height)\n",
        "print(\"===============================\")\n",
        "c3 = Cylinder.changeFormat(\"7-13\")\n",
        "c3.area(c3.radius,c3.height)\n",
        "c3.volume(c3.radius,c3.height)\n",
        "print(\"===============================\")\n",
        "Cylinder(0.3,5.56).area(Cylinder.radius,Cylinder.height)\n",
        "print(\"===============================\")\n",
        "Cylinder(3,5).volume(Cylinder.radius,Cylinder.height)\n"
      ],
      "execution_count": null,
      "outputs": [
        {
          "output_type": "stream",
          "text": [
            "Default radius=5 and height=18\n",
            "Updated radius=0 and height=0\n",
            "Area: 0.0\n",
            "Volume 0.0\n",
            "===============================\n",
            "Default radius=0 and height=0\n",
            "Updated radius=3 and height=8\n",
            "Area: 207.34511513692635\n",
            "Volume 226.1946710584651\n",
            "===============================\n",
            "Default radius=3 and height=8\n",
            "Updated radius=7.0 and height=13.0\n",
            "Area: 879.645943005142\n",
            "Volume 2001.1945203366981\n",
            "===============================\n",
            "Default radius=7.0 and height=13.0\n",
            "Updated radius=0.3 and height=5.56\n",
            "Area: 11.045839770021711\n",
            "===============================\n",
            "Default radius=0.3 and height=5.56\n",
            "Updated radius=3 and height=5\n",
            "Volume 141.3716694115407\n"
          ],
          "name": "stdout"
        }
      ]
    },
    {
      "cell_type": "code",
      "metadata": {
        "colab": {
          "base_uri": "https://localhost:8080/"
        },
        "id": "EkBtDv0m2zII",
        "outputId": "8d4fe956-a1d1-4bbd-b757-f5bd6421ad71"
      },
      "source": [
        "class Student:\n",
        "\n",
        "    totalStudents = 0\n",
        "    bracus = 0\n",
        "    others = 0\n",
        "\n",
        "    def __init__(self, name, dept, uni = \"BRAC University\"):\n",
        "        self.name = name\n",
        "        self.dept = dept\n",
        "        self.uni = uni\n",
        "        if (uni == \"BRAC University\"):\n",
        "            Student.bracus += 1\n",
        "        else:\n",
        "            Student.others += 1\n",
        "        Student.totalStudents += 1\n",
        "    \n",
        "    @classmethod\n",
        "    def createStudent(self, name, dept, uni = \"BRAC University\"):\n",
        "        return self(name, dept, uni)\n",
        "    \n",
        "    def individualDetail(self):\n",
        "        print(\"Name:\", self.name)\n",
        "        print(\"Department:\", self.dept)\n",
        "        print(\"Institution:\", self.uni)\n",
        "\n",
        "    @classmethod\n",
        "    def printDetails(self):\n",
        "        print(\"Total Student(s):\", Student.totalStudents)\n",
        "        print(\"BRAC University Student(s):\", Student.bracus)\n",
        "        print(\"Other Institution Student(s):\", Student.others)\n",
        "\n",
        "\n",
        "Student.printDetails()\n",
        "print('#########################')\n",
        "mikasa = Student('Mikasa Ackerman', \"CSE\")\n",
        "mikasa.individualDetail()\n",
        "print('------------------------------------------')\n",
        "Student.printDetails()\n",
        "print('========================')\n",
        "harry = Student.createStudent('Harry Potter', \"Defence Against Dark Arts\", \"Hogwarts School\")\n",
        "harry.individualDetail()\n",
        "print('-------------------------------------------')\n",
        "Student.printDetails()\n",
        "print('=========================')\n",
        "levi = Student.createStudent(\"Levi Ackerman\", \"CSE\")\n",
        "levi.individualDetail()\n",
        "print('--------------------------------------------')\n",
        "Student.printDetails()\n"
      ],
      "execution_count": null,
      "outputs": [
        {
          "output_type": "stream",
          "text": [
            "Total Student(s): 0\n",
            "BRAC University Student(s): 0\n",
            "Other Institution Student(s): 0\n",
            "#########################\n",
            "Name: Mikasa Ackerman\n",
            "Department: CSE\n",
            "Institution: BRAC University\n",
            "------------------------------------------\n",
            "Total Student(s): 1\n",
            "BRAC University Student(s): 1\n",
            "Other Institution Student(s): 0\n",
            "========================\n",
            "Name: Harry Potter\n",
            "Department: Defence Against Dark Arts\n",
            "Institution: Hogwarts School\n",
            "-------------------------------------------\n",
            "Total Student(s): 2\n",
            "BRAC University Student(s): 1\n",
            "Other Institution Student(s): 1\n",
            "=========================\n",
            "Name: Levi Ackerman\n",
            "Department: CSE\n",
            "Institution: BRAC University\n",
            "--------------------------------------------\n",
            "Total Student(s): 3\n",
            "BRAC University Student(s): 2\n",
            "Other Institution Student(s): 1\n"
          ],
          "name": "stdout"
        }
      ]
    },
    {
      "cell_type": "code",
      "metadata": {
        "colab": {
          "base_uri": "https://localhost:8080/"
        },
        "id": "GqVAFuIO8Lh8",
        "outputId": "0af41167-debb-4d18-a012-f99e8680c7e2"
      },
      "source": [
        "class SultansDine:\n",
        "\n",
        "    totalBranches = 0\n",
        "    totalSell = 0\n",
        "    branchList = []\n",
        "\n",
        "    def __init__(self, name):\n",
        "        self.name = name\n",
        "        self.sell = 0\n",
        "        SultansDine.totalBranches += 1\n",
        "        SultansDine.branchList.append(self)\n",
        "    \n",
        "    def sellQuantity(self, n):\n",
        "        if n < 10:\n",
        "            self.sell += n * 300\n",
        "        elif n < 20:\n",
        "            self.sell += n * 350\n",
        "        else:\n",
        "            self.sell += n * 400\n",
        "        SultansDine.totalSell += self.sell\n",
        "\n",
        "    def branchInformation(self):\n",
        "        print(\"Branch Name:\", self.name)\n",
        "        print(\"Branch Sell:\", self.sell, \"Taka\")\n",
        "\n",
        "    @classmethod\n",
        "    def details(self):\n",
        "        print(\"Total Number of branch(s):\", SultansDine.totalBranches)\n",
        "        print(\"Total Sell:\", SultansDine.totalSell, \"Taka\")\n",
        "        for branch in SultansDine.branchList:\n",
        "            print(\"Branch Name: \" + branch.name + \", Branch Sell:\", branch.sell, \"Taka\")\n",
        "            percentage = (branch.sell / SultansDine.totalSell) * 100\n",
        "            percentage = \"{:.2f}\".format(percentage)\n",
        "            print(\"Branch consists of total sell's: \" + str(percentage) + \"%\")\n",
        "\n",
        "\n",
        "SultansDine.details()\n",
        "print('########################')\n",
        "dhanmodi = SultansDine('Dhanmondi')\n",
        "dhanmodi.sellQuantity(25)\n",
        "dhanmodi.branchInformation()\n",
        "print('-----------------------------------------')\n",
        "SultansDine.details()\n",
        "print('========================')\n",
        "baily_road = SultansDine('Baily Road')\n",
        "baily_road.sellQuantity(15)\n",
        "baily_road.branchInformation()\n",
        "print('-----------------------------------------')\n",
        "SultansDine.details()\n",
        "print('========================')\n",
        "gulshan = SultansDine('Gulshan')\n",
        "gulshan.sellQuantity(9)\n",
        "gulshan.branchInformation()\n",
        "print('-----------------------------------------')\n",
        "SultansDine.details()\n"
      ],
      "execution_count": null,
      "outputs": [
        {
          "output_type": "stream",
          "text": [
            "Total Number of branch(s): 0\n",
            "Total Sell: 0 Taka\n",
            "########################\n",
            "Branch Name: Dhanmondi\n",
            "Branch Sell: 10000 Taka\n",
            "-----------------------------------------\n",
            "Total Number of branch(s): 1\n",
            "Total Sell: 10000 Taka\n",
            "Branch Name: Dhanmondi, Branch Sell: 10000 Taka\n",
            "Branch consists of total sell's: 100.00%\n",
            "========================\n",
            "Branch Name: Baily Road\n",
            "Branch Sell: 5250 Taka\n",
            "-----------------------------------------\n",
            "Total Number of branch(s): 2\n",
            "Total Sell: 15250 Taka\n",
            "Branch Name: Dhanmondi, Branch Sell: 10000 Taka\n",
            "Branch consists of total sell's: 65.57%\n",
            "Branch Name: Baily Road, Branch Sell: 5250 Taka\n",
            "Branch consists of total sell's: 34.43%\n",
            "========================\n",
            "Branch Name: Gulshan\n",
            "Branch Sell: 2700 Taka\n",
            "-----------------------------------------\n",
            "Total Number of branch(s): 3\n",
            "Total Sell: 17950 Taka\n",
            "Branch Name: Dhanmondi, Branch Sell: 10000 Taka\n",
            "Branch consists of total sell's: 55.71%\n",
            "Branch Name: Baily Road, Branch Sell: 5250 Taka\n",
            "Branch consists of total sell's: 29.25%\n",
            "Branch Name: Gulshan, Branch Sell: 2700 Taka\n",
            "Branch consists of total sell's: 15.04%\n"
          ],
          "name": "stdout"
        }
      ]
    },
    {
      "cell_type": "code",
      "metadata": {
        "colab": {
          "base_uri": "https://localhost:8080/"
        },
        "id": "lUq6N2merTkZ",
        "outputId": "1d296f48-3793-4bb1-9a2b-a698a00770cc"
      },
      "source": [
        "class Harry_Potter:\n",
        "    book_count = 0\n",
        "    def __init__(self, name, year):\n",
        "        self.name = name\n",
        "        self.year = year\n",
        "        Harry_Potter.book_count += 1\n",
        "    \n",
        "    def set_name(self, name):\n",
        "        self.name = name\n",
        "\n",
        "    def set_year(self, year):\n",
        "        self.year = year\n",
        "    \n",
        "    def display_book_info(self):\n",
        "        return \"Book--> \" + str(self.year) + \": \" + self.name\n",
        "    \n",
        "\n",
        "print(\"Book Count:\", Harry_Potter.book_count)\n",
        "print(\"=======================\")\n",
        "b1 = Harry_Potter(\"Harry Potter and the Philosopher's Stone.\",1997)\n",
        "print(b1.display_book_info())\n",
        "print(\"=======================\")\n",
        "b2 = Harry_Potter(\"Harry Potter and the Chamber of Secrets.\", 0)\n",
        "b2.set_year(1998)\n",
        "print(b2.display_book_info())\n",
        "print(\"=======================\")\n",
        "b3 = Harry_Potter(\"Harry Potter and the Prisoner of Azkaban.\",1999)\n",
        "print(b3.display_book_info())\n",
        "print(\"=======================\")\n",
        "b4 = Harry_Potter(\"Default\", 0)\n",
        "b4.set_name(\"Harry Potter and the Goblet of Fire.\")\n",
        "b4.set_year(2000)\n",
        "print(b4.display_book_info())\n",
        "print(\"=======================\")\n",
        "print(\"Book Count:\", Harry_Potter.book_count)\n",
        "\n"
      ],
      "execution_count": null,
      "outputs": [
        {
          "output_type": "stream",
          "text": [
            "Book Count: 0\n",
            "=======================\n",
            "Book--> 1997: Harry Potter and the Philosopher's Stone.\n",
            "=======================\n",
            "Book--> 1998: Harry Potter and the Chamber of Secrets.\n",
            "=======================\n",
            "Book--> 1999: Harry Potter and the Prisoner of Azkaban.\n",
            "=======================\n",
            "Book--> 2000: Harry Potter and the Goblet of Fire.\n",
            "=======================\n",
            "Book Count: 4\n"
          ],
          "name": "stdout"
        }
      ]
    },
    {
      "cell_type": "code",
      "metadata": {
        "colab": {
          "base_uri": "https://localhost:8080/"
        },
        "id": "E9nIootAxxO8",
        "outputId": "815ffacf-e549-4408-8d14-fd5f57db5947"
      },
      "source": [
        "class ECustomer:\n",
        "    count = 0\n",
        "    \n",
        "    def __init__(self, customerName):\n",
        "        self.customerName = customerName\n",
        "        ECustomer.count += 1\n",
        "\n",
        "    def setProductDetails(self, *args):\n",
        "        self.productList = []\n",
        "        self.totalCost = 0\n",
        "        for i in range(len(args)):\n",
        "            if (i % 2):\n",
        "                self.totalCost += int(args[i])\n",
        "            else:\n",
        "                self.productList.append(args[i])\n",
        "    \n",
        "    def printDetail(self):\n",
        "        print(\"Name: \" + self.customerName)\n",
        "        print(\"Products: \", end = \"\")\n",
        "        for i in range(len(self.productList) - 1):\n",
        "            print(self.productList[i] + \", \", end = \"\")\n",
        "        print(self.productList[len(self.productList) - 1])\n",
        "        print(\"Total cost: \", self.totalCost)\n",
        "\n",
        "print(\"Total E-Customer:\", ECustomer.count)\n",
        "c1 = ECustomer(\"James\")\n",
        "c1.setProductDetails(\"TV\",35000,\"Air Cooler\", 9000)\n",
        "c2 = ECustomer(\"Mike\")\n",
        "c2.setProductDetails(\"Mobile\",20000,\"Headphone\",1200,\"Fridge\", 45000)\n",
        "c3 = ECustomer(\"Sarah\")\n",
        "c3.setProductDetails(\"Headphone\", 1200)\n",
        "print(\"=========================\")\n",
        "c1.printDetail()\n",
        "print(\"=========================\")\n",
        "c2.printDetail()\n",
        "print(\"=========================\")\n",
        "c3.printDetail()\n",
        "print(\"=========================\")\n",
        "print(\"Total E-Customer:\", ECustomer.count)\n",
        "        \n"
      ],
      "execution_count": null,
      "outputs": [
        {
          "output_type": "stream",
          "text": [
            "Total E-Customer: 0\n",
            "=========================\n",
            "Name: James\n",
            "Products: TV, Air Cooler\n",
            "Total cost:  44000\n",
            "=========================\n",
            "Name: Mike\n",
            "Products: Mobile, Headphone, Fridge\n",
            "Total cost:  66200\n",
            "=========================\n",
            "Name: Sarah\n",
            "Products: Headphone\n",
            "Total cost:  1200\n",
            "=========================\n",
            "Total E-Customer: 3\n"
          ],
          "name": "stdout"
        }
      ]
    },
    {
      "cell_type": "code",
      "metadata": {
        "colab": {
          "base_uri": "https://localhost:8080/"
        },
        "id": "Jynn1kxIRp9k",
        "outputId": "808ce95b-132d-40d9-c4e8-588e5830ec01"
      },
      "source": [
        "class Tournament:\n",
        "    def __init__(self,name='Default'):\n",
        "        self.__name = name\n",
        "    def set_name(self,name):\n",
        "        self.__name = name\n",
        "        \n",
        "    def get_name(self):\n",
        "        return self.__name\n",
        "\n",
        "\n",
        "class Cricket_Tournament(Tournament):\n",
        "    def __init__(self, name = 'Default', no_of_teams = 0, tourType = \"No type\"):\n",
        "        super().__init__(name)\n",
        "        self.__no_of_teams = no_of_teams\n",
        "        self.__tourType = tourType\n",
        "\n",
        "    def detail(self):\n",
        "        s = \"Cricket Tournament Name: \" + super().get_name() + \"\\n\"\n",
        "        s += \"Number of Teams: \" + str(self.__no_of_teams) + \"\\n\"\n",
        "        s += \"Type: \" + self.__tourType\n",
        "        return s\n",
        "\n",
        "class Tennis_Tournament(Tournament):\n",
        "    def __init__(self, name = 'Default', no_of_players = 0):\n",
        "        super().__init__(name)\n",
        "        self.__no_of_players = no_of_players\n",
        "\n",
        "    def detail(self):\n",
        "        s = \"Tennis Tournament Name: \" + super().get_name() + \"\\n\"\n",
        "        s += \"Number of Players: \" + str(self.__no_of_players)\n",
        "        return s\n",
        "\n",
        "ct1 = Cricket_Tournament()\n",
        "print(ct1.detail())\n",
        "print(\"-----------------------\")\n",
        "ct2 = Cricket_Tournament(\"IPL\",10,\"t20\")\n",
        "print(ct2.detail())\n",
        "print(\"-----------------------\")\n",
        "tt = Tennis_Tournament(\"Roland Garros\",128)\n",
        "print(tt.detail())\n"
      ],
      "execution_count": null,
      "outputs": [
        {
          "output_type": "stream",
          "text": [
            "Cricket Tournament Name: Default\n",
            "Number of Teams: 0\n",
            "Type: No type\n",
            "-----------------------\n",
            "Cricket Tournament Name: IPL\n",
            "Number of Teams: 10\n",
            "Type: t20\n",
            "-----------------------\n",
            "Tennis Tournament Name: Roland Garros\n",
            "Number of Players: 128\n"
          ],
          "name": "stdout"
        }
      ]
    },
    {
      "cell_type": "code",
      "metadata": {
        "colab": {
          "base_uri": "https://localhost:8080/"
        },
        "id": "_GMEep5lbrN8",
        "outputId": "cac0a36a-89a5-45e3-fe2b-5fb2e1338497"
      },
      "source": [
        "class Product:\n",
        "    def __init__(self,id, title, price):\n",
        "        self.__id = id\n",
        "        self. __title = title\n",
        "        self. __price = price\n",
        "    def get_id_title_price(self):\n",
        "        return \"ID: \" + str(self.__id) + \" Title: \" + self.__title + \" Price: \" + str(self.__price)\n",
        "\n",
        "class Book(Product):\n",
        "    def __init__(self, id, title, price, isbn, publisher):\n",
        "        super().__init__(id, title, price)\n",
        "        self.__isbn = isbn\n",
        "        self.__publisher = publisher\n",
        "    \n",
        "    def printDetail(self):\n",
        "        s = super().get_id_title_price()\n",
        "        s += \"\\nISBN: \" + self.__isbn + \" Publisher: \" + self.__publisher\n",
        "        return s\n",
        "\n",
        "class CD(Product):\n",
        "    def __init__(self, id, title, price, band, duration, genre):\n",
        "        super().__init__(id, title, price)\n",
        "        self.__band = band\n",
        "        self.__duration = duration\n",
        "        self.__genre = genre\n",
        "    \n",
        "    def printDetail(self):\n",
        "        s = super().get_id_title_price()\n",
        "        s += \"\\nBand: \" + self.__band + \" Duration: \" + str(self.__duration) + \" minutes\\n\"\n",
        "        s += \"Genre: \" + self.__genre\n",
        "        return s\n",
        "\n",
        "book = Book(1,\"The Alchemist\",500,\"97806\",\"HarperCollins\")\n",
        "print(book.printDetail())\n",
        "print(\"-----------------------\")\n",
        "cd = CD(2,\"Shotto\",300,\"Warfaze\",50,\"Hard Rock\")\n",
        "print(cd.printDetail())\n",
        "\n"
      ],
      "execution_count": null,
      "outputs": [
        {
          "output_type": "stream",
          "text": [
            "ID: 1 Title: The Alchemist Price: 500\n",
            "ISBN: 97806 Publisher: HarperCollins\n",
            "-----------------------\n",
            "ID: 2 Title: Shotto Price: 300\n",
            "Band: Warfaze Duration: 50 minutes\n",
            "Genre: Hard Rock\n"
          ],
          "name": "stdout"
        }
      ]
    },
    {
      "cell_type": "code",
      "metadata": {
        "colab": {
          "base_uri": "https://localhost:8080/"
        },
        "id": "Et9p2tq0hIxd",
        "outputId": "3cef0529-d5a1-4733-b9df-78df4079df69"
      },
      "source": [
        "class Animal:\n",
        "    def __init__(self, sound):\n",
        "        self.sound = sound\n",
        "\n",
        "    def makeSound(self):\n",
        "        return self.sound\n",
        "\n",
        "class Printer:\n",
        "    def printSound(self, a):\n",
        "        print(a.makeSound())\n",
        "\n",
        "class Dog(Animal):\n",
        "    def __init__(self, sound):\n",
        "        super().__init__(sound)\n",
        "\n",
        "class Cat(Dog):\n",
        "    def __init__(self, sound):\n",
        "        super().__init__(sound)\n",
        "\n",
        "d1 = Dog('bark')\n",
        "c1 = Cat('meow')\n",
        "a1 = Animal('Animal does not make sound')\n",
        "pr = Printer()\n",
        "pr.printSound(a1)\n",
        "pr.printSound(c1)\n",
        "pr.printSound(d1)"
      ],
      "execution_count": null,
      "outputs": [
        {
          "output_type": "stream",
          "text": [
            "Animal does not make sound\n",
            "meow\n",
            "bark\n"
          ],
          "name": "stdout"
        }
      ]
    },
    {
      "cell_type": "code",
      "metadata": {
        "colab": {
          "base_uri": "https://localhost:8080/"
        },
        "id": "U-AY6KIxiZa8",
        "outputId": "37448c41-8a38-4f68-f6d5-1cc15d966e4a"
      },
      "source": [
        "class Shape:\n",
        "    def __init__(self, name = 'Default', height = 0, base = 0):\n",
        "        self.area = 0\n",
        "        self.name = name\n",
        "        self.height = height\n",
        "        self.base = base\n",
        "    def get_height_base(self):\n",
        "        return \"Height: \" + str(self.height) + \",Base: \" + str(self.base)\n",
        "class triangle(Shape):\n",
        "    def __init__(self, name = 'Default', height = 0, base = 0):\n",
        "        super().__init__(name, height, base)\n",
        "    def calcArea(self):\n",
        "        a = float(1/2 * self.height * self.base)\n",
        "        self.area += a\n",
        "    def printDetail(self):\n",
        "        return \"Shape name: \" + self.name + \"\\n\" + \"Height: \" + str(self.height) + \",Base: \" + str(self.base) + \"\\n\" + \"Area: \" + str(self.area)\n",
        "class trapezoid(Shape):\n",
        "    def __init__(self, name, height, base, side):\n",
        "        super().__init__(name, height, base)\n",
        "        self.side = side\n",
        "    def calcArea(self):\n",
        "        a = float((1/2) * (self.base + self.side) * self.height)\n",
        "        self.area += a\n",
        "    def printDetail(self):\n",
        "        return \"Shape name: \" + self.name + \"\\n\" + \"Height: \" + str(self.height) + \",Base: \" + str(self.base) + \",Side_A: \" + str(self.side) + \"\\n\" + \"Area: \" + str(self.area)\n",
        "tri_default = triangle()\n",
        "tri_default.calcArea()\n",
        "print(tri_default.printDetail())\n",
        "print('--------------------------')\n",
        "tri = triangle('Triangle', 10, 5)\n",
        "tri.calcArea()\n",
        "print(tri.printDetail())\n",
        "print('---------------------------')\n",
        "trap = trapezoid('Trapezoid', 10, 6, 4)\n",
        "trap.calcArea()\n",
        "print(trap.printDetail())"
      ],
      "execution_count": null,
      "outputs": [
        {
          "output_type": "stream",
          "text": [
            "Shape name: Default\n",
            "Height: 0,Base: 0\n",
            "Area: 0.0\n",
            "--------------------------\n",
            "Shape name: Triangle\n",
            "Height: 10,Base: 5\n",
            "Area: 25.0\n",
            "---------------------------\n",
            "Shape name: Trapezoid\n",
            "Height: 10,Base: 6,Side_A: 4\n",
            "Area: 50.0\n"
          ],
          "name": "stdout"
        }
      ]
    },
    {
      "cell_type": "code",
      "metadata": {
        "colab": {
          "base_uri": "https://localhost:8080/"
        },
        "id": "E4WSxmJvh-uM",
        "outputId": "0ebb3858-05a3-4c92-ebed-62d8882a5ed8"
      },
      "source": [
        "class Football:\n",
        "    def __init__(self, team_name, name, role):\n",
        "        self.__team = team_name\n",
        "        self.__name = name\n",
        "        self.role = role\n",
        "        self.earning_per_match = 0\n",
        "\n",
        "    def get_name_team(self):\n",
        "        return 'Name: '+self.__name+', Team Name: ' +self.__team\n",
        "\n",
        "\n",
        "class Player(Football):\n",
        "    def __init__(self, team_name, name, role, no_of_goals, no_of_match):\n",
        "        super().__init__(team_name, name, role)\n",
        "        self.__no_of_goals = no_of_goals\n",
        "        self.__no_of_match = no_of_match\n",
        "    \n",
        "    def calculate_ratio(self):\n",
        "        self.__goal_ratio = self.__no_of_goals/self.__no_of_match\n",
        "        self.__earning = (self.__no_of_goals * 1000) + (self.__no_of_match * 10)\n",
        "    \n",
        "    def print_details(self):\n",
        "        s = super().get_name_team()\n",
        "        s += \"\\nTeamRole: \" + self.role\n",
        "        s += \"\\nTotal Goal: \" + str(self.__no_of_goals) + \", Total Played: \" + str(self.__no_of_match)\n",
        "        s += \"\\nGoal Ratio: \" + str(self.__goal_ratio)\n",
        "        s += \"\\nMatch Earning: \" + str(self.__earning) + \"k\"\n",
        "        print(s)\n",
        "\n",
        "\n",
        "class Manager(Football):\n",
        "    def __init__(self, team_name, name, role, no_of_wins):\n",
        "        super().__init__(team_name, name, role)\n",
        "        self.__no_of_wins = no_of_wins\n",
        "        self.__earning = no_of_wins * 1000\n",
        "\n",
        "    def print_details(self):\n",
        "        s = super().get_name_team()\n",
        "        s += \"\\nTeamRole: \" + self.role\n",
        "        s += \"\\nTotal Win: \" + str(self.__no_of_wins)\n",
        "        s += \"\\nMatch Earning: \" + str(self.__earning) + \"k\"\n",
        "        print(s)\n",
        "\n",
        "\n",
        "player_one = Player('Juventus', 'Ronaldo', 'Striker', 25, 32)\n",
        "player_one.calculate_ratio()\n",
        "player_one.print_details()\n",
        "print('------------------------------------------')\n",
        "manager_one = Manager('Real Madrid', 'Zidane', 'Manager', 25)\n",
        "manager_one.print_details()\n"
      ],
      "execution_count": null,
      "outputs": [
        {
          "output_type": "stream",
          "text": [
            "Name: Ronaldo, Team Name: Juventus\n",
            "TeamRole: Striker\n",
            "Total Goal: 25, Total Played: 32\n",
            "Goal Ratio: 0.78125\n",
            "Match Earning: 25320k\n",
            "------------------------------------------\n",
            "Name: Zidane, Team Name: Real Madrid\n",
            "TeamRole: Manager\n",
            "Total Win: 25\n",
            "Match Earning: 25000k\n"
          ],
          "name": "stdout"
        }
      ]
    },
    {
      "cell_type": "code",
      "metadata": {
        "colab": {
          "base_uri": "https://localhost:8080/"
        },
        "id": "YE2urZfL0WzQ",
        "outputId": "b5f7bbb9-d002-44fb-c32d-9807d3ffc38a"
      },
      "source": [
        "class Actor:\n",
        "     total_movies = 0\n",
        "\n",
        "     def __init__(self, name, industry_name):\n",
        "         self.name = name\n",
        "         self.industry_name = industry_name\n",
        "\n",
        "     def __str__(self):\n",
        "         s =  \"Name: \"+self.name+\", Industry: \"+self.industry_name\n",
        "         return s\n",
        "\n",
        "class Brad(Actor):\n",
        "\n",
        "    def __init__(self, name, industry_name):\n",
        "        super().__init__(name, industry_name)\n",
        "        print(\"Brad works in Hollywood movies.\")\n",
        "\n",
        "    \n",
        "    def __str__(self):\n",
        "        s = \"Name: \" + self.name + \", Industry: \" + self.industry_name + \"\\n\"\n",
        "        s += \"Total Movie(s): \" + str(self.total_movies) + \"\\n\"\n",
        "        s += \"Movie Details:\\n\"\n",
        "        for key, value in self.dic.items():\n",
        "            s += \"Name: \" + key + \", Rating Score: \" + str(value*500) + \"\\n\"\n",
        "        return s\n",
        "    \n",
        "    def addMoviesWithRatings(self, *args):\n",
        "        self.dic = {}\n",
        "        for i in range(len(args)):\n",
        "            if (i % 2):\n",
        "                self.total_movies += 1\n",
        "                self.dic[args[i - 1]] = args[i]\n",
        "\n",
        "\n",
        "class Dulquer(Actor):\n",
        "\n",
        "    def __init__(self, name, industry_name):\n",
        "        super().__init__(name, industry_name)\n",
        "        print(\"Dulquer works in Malayalam movies.\")\n",
        "\n",
        "    \n",
        "    def __str__(self):\n",
        "        s = \"Name: \" + self.name + \", Industry: \" + self.industry_name + \"\\n\"\n",
        "        s += \"Total Movie(s): \" + str(self.total_movies) + \"\\n\"\n",
        "        s += \"Movie Details:\\n\"\n",
        "        for key, value in self.dic.items():\n",
        "            s += \"Name: \" + key + \", Award Score: \" + str(value*1000) + \"\\n\"\n",
        "        return s\n",
        "    \n",
        "    def addMoviesWithAward(self, *args):\n",
        "        self.dic = {}\n",
        "        for i in range(len(args)):\n",
        "            if (i % 2):\n",
        "                self.total_movies += 1\n",
        "                self.dic[args[i - 1]] = args[i]\n",
        "    \n",
        "s1 = Brad(\"Brad\", \"Hollywood\")\n",
        "print(\"==============================\")\n",
        "s1.addMoviesWithRatings(\"Seven\", 9,  \"Fight Club\", 10, \"Troy\", 8)\n",
        "print(\"==============================\")\n",
        "print(s1)\n",
        "print(\"==============================\")\n",
        "s2 = Dulquer(\"Dulquer\", \"Malayalam\")\n",
        "print(\"==============================\")\n",
        "s2.addMoviesWithAward(\"Ustad Hotel\", 5, \"Charlie\", 4, \"Bangalore Days\", 2)\n",
        "print(\"==============================\")\n",
        "print(s2)\n",
        "print(\"==============================\")\n",
        "print(\"Total Movies:\", Actor.total_movies)\n",
        "\n"
      ],
      "execution_count": null,
      "outputs": [
        {
          "output_type": "stream",
          "name": "stdout",
          "text": [
            "Brad works in Hollywood movies.\n",
            "==============================\n",
            "==============================\n",
            "Name: Brad, Industry: Hollywood\n",
            "Total Movie(s): 3\n",
            "Movie Details:\n",
            "Name: Seven, Rating Score: 4500\n",
            "Name: Fight Club, Rating Score: 5000\n",
            "Name: Troy, Rating Score: 4000\n",
            "\n",
            "==============================\n",
            "Dulquer works in Malayalam movies.\n",
            "==============================\n",
            "==============================\n",
            "Name: Dulquer, Industry: Malayalam\n",
            "Total Movie(s): 3\n",
            "Movie Details:\n",
            "Name: Ustad Hotel, Award Score: 5000\n",
            "Name: Charlie, Award Score: 4000\n",
            "Name: Bangalore Days, Award Score: 2000\n",
            "\n",
            "==============================\n",
            "Total Movies: 0\n"
          ]
        }
      ]
    },
    {
      "cell_type": "code",
      "metadata": {
        "colab": {
          "base_uri": "https://localhost:8080/"
        },
        "id": "TSkelm6OvAl7",
        "outputId": "d5d7cb2c-8f30-40d0-b113-87d746b45fd7"
      },
      "source": [
        "class RealNumber:\n",
        "    def __init__(self, number=0):\n",
        "        self.number = number\n",
        "    def __add__(self, anotherRealNumber):\n",
        "        return self.number + anotherRealNumber.number\n",
        "    def __sub__(self, anotherRealNumber):\n",
        "        return self.number - anotherRealNumber.number\n",
        "    def __str__(self):\n",
        "        return str(self.number)\n",
        "\n",
        "class ComplexNumber(RealNumber):\n",
        "    def __init__(self, number, imaginary_component):\n",
        "\n",
        "        if (isinstance(number, RealNumber)):\n",
        "            super().__init__(number.number)\n",
        "        else:\n",
        "            super().__init__(number)\n",
        "        \n",
        "        self.imaginary_component = imaginary_component\n",
        "    \n",
        "    def __add__(self, other):\n",
        "        real = self.number + other.number\n",
        "        imaginary = self.imaginary_component + other.imaginary_component\n",
        "        return ComplexNumber(real, imaginary)\n",
        "    \n",
        "    def __sub__(self, other):\n",
        "        real = self.number - other.number\n",
        "        imaginary = self.imaginary_component - other.imaginary_component\n",
        "        return ComplexNumber(real, imaginary)\n",
        "\n",
        "    def __str__(self):\n",
        "        if (self.imaginary_component < 0):\n",
        "            return str(self.number) + \" - \" + str(self.imaginary_component * -1) + \"i\"\n",
        "        return str(self.number) + \" + \" + str(self.imaginary_component) + \"i\"\n",
        "\n",
        "\n",
        "\n",
        "\n",
        "r1 = RealNumber(3)\n",
        "r2 = RealNumber(5)\n",
        "print(r1+r2)\n",
        "cn1 = ComplexNumber(2, 1)\n",
        "print(cn1)\n",
        "cn2 = ComplexNumber(r1, 5)\n",
        "print(cn2)\n",
        "cn3 = cn1 + cn2\n",
        "print(cn3)\n",
        "cn4 = cn1 - cn2\n",
        "print(cn4)\n"
      ],
      "execution_count": null,
      "outputs": [
        {
          "output_type": "stream",
          "name": "stdout",
          "text": [
            "8\n",
            "2 + 1i\n",
            "3 + 5i\n",
            "5 + 6i\n",
            "-1 - 4i\n"
          ]
        }
      ]
    },
    {
      "cell_type": "code",
      "metadata": {
        "colab": {
          "base_uri": "https://localhost:8080/"
        },
        "id": "NoEV2zQq1Yor",
        "outputId": "772baac4-1845-42cb-8e81-7c08548993b4"
      },
      "source": [
        "class RealNumber:\n",
        "    def __init__(self, r = 0):\n",
        "        self.realValue = r\n",
        "    def getRealValue(self):\n",
        "        return self.realValue\n",
        "    def setRealValue(self, r):\n",
        "        self.realValue = r\n",
        "    def __str__(self):\n",
        "        return 'RealPart: '+str(self.getRealValue())\n",
        "\n",
        "class ComplexNumber(RealNumber):\n",
        "    def __init__(self, r = 1.0, im_part = 1.0):\n",
        "        super().__init__(float(r))\n",
        "        self.im_part = float(im_part)\n",
        "    def __str__(self):\n",
        "        return super().__str__() +'\\nImaginaryPart: '+str(self.im_part)\n",
        "\n",
        "cn1 = ComplexNumber()\n",
        "print(cn1)\n",
        "print('---------')\n",
        "cn2 = ComplexNumber(5,7)\n",
        "print(cn2)"
      ],
      "execution_count": null,
      "outputs": [
        {
          "output_type": "stream",
          "name": "stdout",
          "text": [
            "RealPart: 1.0\n",
            "ImaginaryPart: 1.0\n",
            "---------\n",
            "RealPart: 5.0\n",
            "ImaginaryPart: 7.0\n"
          ]
        }
      ]
    },
    {
      "cell_type": "code",
      "metadata": {
        "colab": {
          "base_uri": "https://localhost:8080/"
        },
        "id": "hriRrQ3h4YAW",
        "outputId": "cc2bc07d-e5ec-4b28-95d5-e5331e13480a"
      },
      "source": [
        "class Exam:\n",
        "    def __init__(self,marks):\n",
        "        self.marks = marks\n",
        "        self.time = 60\n",
        "    def examSyllabus(self):\n",
        "        return \"Maths , English\"\n",
        "    def examParts(self):\n",
        "        return \"Part 1 - Maths\\nPart 2 - English\\n\"\n",
        "\n",
        "class ScienceExam(Exam):\n",
        "    def __init__(self, marks, time, *subject_list):\n",
        "        super().__init__(marks)\n",
        "        self.time = time\n",
        "        self.subject_list = subject_list\n",
        "        self.parts_no = 2 + len(subject_list)\n",
        "\n",
        "    def examSyllabus(self):\n",
        "        s = super().examSyllabus()\n",
        "        for sub in self.subject_list:\n",
        "            s += \", \" + sub\n",
        "        return s\n",
        "\n",
        "    def examParts(self):\n",
        "        s = super().examParts()\n",
        "        i = 3\n",
        "        for sub in self.subject_list:\n",
        "            s += \"Part \" + str(i) + \" - \" + sub + \"\\n\"\n",
        "            i += 1\n",
        "        return s\n",
        "\n",
        "    def __str__(self):\n",
        "        return 'Marks: '+str(self.marks)+ ' Time: '+str(self.time)+ ' minutes '+ 'Number of Parts: '+str(self.parts_no)\n",
        "\n",
        "engineering = ScienceExam(100,90,\"Physics\",\"HigherMaths\")\n",
        "print(engineering)\n",
        "print('----------------------------------')\n",
        "print(engineering.examSyllabus())\n",
        "print(engineering.examParts())\n",
        "print('==================================')\n",
        "architecture = ScienceExam(100,120,\"Physics\",\"HigherMaths\",\"Drawing\")\n",
        "print(architecture)\n",
        "print('----------------------------------')\n",
        "print(architecture.examSyllabus())\n",
        "print(architecture.examParts())"
      ],
      "execution_count": null,
      "outputs": [
        {
          "output_type": "stream",
          "name": "stdout",
          "text": [
            "Marks: 100 Time: 90 minutes Number of Parts: 4\n",
            "----------------------------------\n",
            "Maths , English, Physics, HigherMaths\n",
            "Part 1 - Maths\n",
            "Part 2 - English\n",
            "Part 3 - Physics\n",
            "Part 4 - HigherMaths\n",
            "\n",
            "==================================\n",
            "Marks: 100 Time: 120 minutes Number of Parts: 5\n",
            "----------------------------------\n",
            "Maths , English, Physics, HigherMaths, Drawing\n",
            "Part 1 - Maths\n",
            "Part 2 - English\n",
            "Part 3 - Physics\n",
            "Part 4 - HigherMaths\n",
            "Part 5 - Drawing\n",
            "\n"
          ]
        }
      ]
    },
    {
      "cell_type": "code",
      "metadata": {
        "colab": {
          "base_uri": "https://localhost:8080/"
        },
        "id": "DKwC3CLj9O-N",
        "outputId": "55920354-abe5-4fbb-f31f-d02c9f9cd788"
      },
      "source": [
        "class PokemonBasic:\n",
        "    def __init__(self, name = 'Default', hp = 0, weakness = 'None', type = 'Unknown'):\n",
        "        self.name = name\n",
        "        self.hit_point = hp\n",
        "        self.weakness = weakness\n",
        "        self.type = type\n",
        "    def get_type(self):\n",
        "        return 'Main type: ' + self.type\n",
        "    def get_move(self):\n",
        "        return 'Basic move: ' + 'Quick Attack'\n",
        "    def __str__(self):\n",
        "        return \"Name: \" + self.name + \", HP: \" + str(self.hit_point) + \", Weakness: \" + self.weakness\n",
        "\n",
        "class PokemonExtra(PokemonBasic):\n",
        "    def __init__(self, name = 'Default', hp = 0, weakness = 'None', type = 'Unknown',\n",
        "                 secondary_type = \"\", other_moves = ()):\n",
        "        super().__init__(name, hp, weakness, type)\n",
        "        self.secondary_type = secondary_type\n",
        "        self.other_moves = other_moves\n",
        "    \n",
        "    def get_type(self):\n",
        "        s = super().get_type()\n",
        "        if (self.secondary_type != \"\"):\n",
        "            s += \", Secondary type: \" + str(self.secondary_type)\n",
        "        return s\n",
        "    \n",
        "    def get_move(self):\n",
        "        s = super().get_move()\n",
        "        if (len(self.other_moves)):\n",
        "            s += \"\\nOther move: \"\n",
        "            for move in self.other_moves:\n",
        "                if (move == self.other_moves[len(self.other_moves) - 1]):\n",
        "                    s += move\n",
        "                else:\n",
        "                    s += move + \", \"\n",
        "        return s\n",
        "\n",
        "print('\\n------------Basic Info:--------------')\n",
        "pk = PokemonBasic()\n",
        "print(pk)\n",
        "print(pk.get_type())\n",
        "print(pk.get_move())\n",
        "print('\\n------------Pokemon 1 Info:-------------')\n",
        "charmander = PokemonExtra('Charmander', 39, 'Water', 'Fire')\n",
        "print(charmander)\n",
        "print(charmander.get_type())\n",
        "print(charmander.get_move())\n",
        "print('\\n------------Pokemon 2 Info:-------------')\n",
        "charizard = PokemonExtra('Charizard', 78, 'Water', 'Fire', 'Flying', ('Fire Spin', 'Fire Blaze'))\n",
        "print(charizard)\n",
        "print(charizard.get_type())\n",
        "print(charizard.get_move())\n"
      ],
      "execution_count": null,
      "outputs": [
        {
          "output_type": "stream",
          "name": "stdout",
          "text": [
            "\n",
            "------------Basic Info:--------------\n",
            "Name: Default, HP: 0, Weakness: None\n",
            "Main type: Unknown\n",
            "Basic move: Quick Attack\n",
            "\n",
            "------------Pokemon 1 Info:-------------\n",
            "Name: Charmander, HP: 39, Weakness: Water\n",
            "Main type: Fire\n",
            "Basic move: Quick Attack\n",
            "\n",
            "------------Pokemon 2 Info:-------------\n",
            "Name: Charizard, HP: 78, Weakness: Water\n",
            "Main type: Fire, Secondary type: Flying\n",
            "Basic move: Quick Attack\n",
            "Other move: Fire Spin, Fire Blaze\n"
          ]
        }
      ]
    },
    {
      "cell_type": "code",
      "metadata": {
        "colab": {
          "base_uri": "https://localhost:8080/"
        },
        "id": "T9WaWOB1ST7B",
        "outputId": "38a7b659-73da-47c2-9667-a6b4dc40fa0e"
      },
      "source": [
        "class Player:\n",
        "    database={}\n",
        "    playerNo = 0\n",
        "    def __init__(self,name,team,jerseyNo):\n",
        "        self.name = name\n",
        "        self.team = team\n",
        "        self.jerseyNo = jerseyNo\n",
        "    def __str__(self):\n",
        "        return \"Name:{}\\nTeam:{}\\nJersey No:{}\".format(self.name,self.team,self.jerseyNo)\n",
        "    \n",
        "class FootballPlayer(Player):\n",
        "    def __init__(self, name, team, jerseyNo, goals, ret_date = \"Not yet retired\"):\n",
        "        super().__init__(name, team, jerseyNo)\n",
        "        self.goals = goals\n",
        "        self.ret_date = ret_date\n",
        "\n",
        "        Player.playerNo += 1\n",
        "\n",
        "        self.playerId = str(super().playerNo)\n",
        "        shortName = self.name.split(\" \")\n",
        "        self.playerId += shortName[0][0].upper() + shortName[1][0].upper() + str(self.jerseyNo)\n",
        "\n",
        "        super().database[self.playerId] = [self.name, self.team, self.jerseyNo, self.goals, self.ret_date]\n",
        "    \n",
        "    @classmethod\n",
        "    def createPlayer(cls, name, team, jerseyNo, goals, ret_date = \"Not yet retired\"):\n",
        "        return cls(name, team, jerseyNo, goals, ret_date)\n",
        "\n",
        "\n",
        "    def __str__(self):\n",
        "        s = \"Player ID: \" + self.playerId + \"\\n\"\n",
        "        s += super().__str__() + \"\\n\"\n",
        "        s += \"Goals Scored: \" + str(self.goals) + \"\\n\"\n",
        "        s += \"Retirement Date:\" + self.ret_date\n",
        "        return s\n",
        "\n",
        "print(\"Number of players:\",Player.playerNo)\n",
        "print(\"Player Database:\",Player.database)\n",
        "print(\"#################################\")\n",
        "p1 = FootballPlayer(\"Lionel Messi\",\"Barcelona\",10,231)\n",
        "print(\"------Details of the player------\")\n",
        "print(p1)\n",
        "print(\"#################################\")\n",
        "p2 = FootballPlayer(\"Cristiano Ronaldo\",\"Juventus\",7,215)\n",
        "print(\"------Details of the player------\")\n",
        "print(p2)\n",
        "print(\"#################################\")\n",
        "p3 = FootballPlayer.createPlayer(\"Miroslav Klose\",\"Lazio\",11,71,\"11 Aug,2014\")\n",
        "print(\"------Details of the player------\")\n",
        "print(p3)\n",
        "print(\"#################################\")\n",
        "print(\"Number of players:\",Player.playerNo)\n",
        "print(\"Player Database:\",Player.database)\n"
      ],
      "execution_count": null,
      "outputs": [
        {
          "output_type": "stream",
          "name": "stdout",
          "text": [
            "Number of players: 0\n",
            "Player Database: {}\n",
            "#################################\n",
            "------Details of the player------\n",
            "Player ID: 1LM10\n",
            "Name:Lionel Messi\n",
            "Team:Barcelona\n",
            "Jersey No:10\n",
            "Goals Scored: 231\n",
            "Retirement Date:Not yet retired\n",
            "#################################\n",
            "------Details of the player------\n",
            "Player ID: 2CR7\n",
            "Name:Cristiano Ronaldo\n",
            "Team:Juventus\n",
            "Jersey No:7\n",
            "Goals Scored: 215\n",
            "Retirement Date:Not yet retired\n",
            "#################################\n",
            "------Details of the player------\n",
            "Player ID: 3MK11\n",
            "Name:Miroslav Klose\n",
            "Team:Lazio\n",
            "Jersey No:11\n",
            "Goals Scored: 71\n",
            "Retirement Date:11 Aug,2014\n",
            "#################################\n",
            "Number of players: 3\n",
            "Player Database: {'1LM10': ['Lionel Messi', 'Barcelona', 10, 231, 'Not yet retired'], '2CR7': ['Cristiano Ronaldo', 'Juventus', 7, 215, 'Not yet retired'], '3MK11': ['Miroslav Klose', 'Lazio', 11, 71, '11 Aug,2014']}\n"
          ]
        }
      ]
    },
    {
      "cell_type": "code",
      "metadata": {
        "id": "yXnmgpIygNas",
        "colab": {
          "base_uri": "https://localhost:8080/"
        },
        "outputId": "2d507bfd-e10e-4b5c-d698-f085c58cd5cc"
      },
      "source": [
        "class Library:\n",
        "    Total_book = 1000\n",
        "    borrow_data = {}\n",
        "    def __init__(self,n,id):\n",
        "        self.student_name = n\n",
        "        self.student_id = id\n",
        "    def borrowbook(self):\n",
        "        print(\"A book is borrowed!\")\n",
        "    def __str__(self):\n",
        "        return \"Library: XYZ\"\n",
        "\n",
        "class Student(Library):\n",
        "    def __init__(self, name, id):\n",
        "        super().__init__(name, id)\n",
        "        self.bookList = []\n",
        "    \n",
        "    def borrowbook(self, bookName, uniqueId = \"\"):\n",
        "\n",
        "        if bookName in Library.borrow_data:\n",
        "            s = \"Sorry \" + self.student_name + \"! \" + bookName\n",
        "            s += \"book is borrowed by \" + str(Library.borrow_data[bookName])\n",
        "            print(s)\n",
        "            return\n",
        "\n",
        "        super().borrowbook()\n",
        "        self.bookName = bookName\n",
        "        self.uniqueId = uniqueId\n",
        "        self.bookList.append(bookName)\n",
        "\n",
        "        Library.borrow_data[bookName] = [self.student_name]\n",
        "        Library.Total_book -= 1\n",
        "\n",
        "        s  = bookName + \" book\"\n",
        "        if uniqueId != \"\":\n",
        "            s += \" with unique id \" + uniqueId\n",
        "        s += \" is borrowed by \" + self.student_name + \"(\" + str(self.student_id) + \")\" + \"\\n\"\n",
        "        s += \"Number of books available for borrowing = \" + str(Library.Total_book)\n",
        "\n",
        "        print(s)\n",
        "\n",
        "    def returnAllBooks(self):\n",
        "        s = \"All books are returned by \" + self.student_name\n",
        "        Library.Total_book += len(self.bookList)\n",
        "        self.bookList = []\n",
        "        print(s)\n",
        "        pop_list = []\n",
        "        for book in Library.borrow_data.keys():\n",
        "            if Library.borrow_data[book] == self.student_name:\n",
        "                pop_list.append(book)\n",
        "        for book in pop_list:\n",
        "            Library.borrow_data.pop(book)\n",
        "\n",
        "    def __str__(self):\n",
        "        s = super().__str__()\n",
        "        s += \"\\n\" + \"Student Name: \" + self.student_name + \" \"\n",
        "        s += \"ID: \" + str(self.student_id) + \"\\n\"\n",
        "        s += \"Books borrowed: \"\n",
        "        for i in range(len(self.bookList) - 1):\n",
        "            s += self.bookList[i] + \", \"\n",
        "        s += self.bookList[len(self.bookList) - 1]\n",
        "        return s\n",
        "\n",
        "s1 = Student(\"Alice\",18101259)\n",
        "s1.borrowbook(\"The Alchemist\", \"Hdw652\")\n",
        "print(\"===============\")\n",
        "print(s1)\n",
        "print(\"===============\")\n",
        "print(Library.borrow_data)\n",
        "print(\"===============\")\n",
        "s1.borrowbook(\"Wuthering Heights\")\n",
        "print(\"===============\")\n",
        "print(s1)\n",
        "print(\"===============\")\n",
        "s2= Student(\"David\",18141777)\n",
        "s2.borrowbook(\"The Alchemist\", \"Hdw652\")\n",
        "print(\"===============\")\n",
        "s2.borrowbook(\"The Vampyre\")\n",
        "print(\"===============\")\n",
        "print(Library.borrow_data)\n",
        "print(\"===============\")\n",
        "s1.returnAllBooks()\n",
        "print(\"===============\")\n",
        "print(Library.borrow_data)"
      ],
      "execution_count": null,
      "outputs": [
        {
          "output_type": "stream",
          "name": "stdout",
          "text": [
            "A book is borrowed!\n",
            "The Alchemist book with unique id Hdw652 is borrowed by Alice(18101259)\n",
            "Number of books available for borrowing = 999\n",
            "===============\n",
            "Library: XYZ\n",
            "Student Name: Alice ID: 18101259\n",
            "Books borrowed: The Alchemist\n",
            "===============\n",
            "{'The Alchemist': ['Alice']}\n",
            "===============\n",
            "A book is borrowed!\n",
            "Wuthering Heights book is borrowed by Alice(18101259)\n",
            "Number of books available for borrowing = 998\n",
            "===============\n",
            "Library: XYZ\n",
            "Student Name: Alice ID: 18101259\n",
            "Books borrowed: The Alchemist, Wuthering Heights\n",
            "===============\n",
            "Sorry David! The Alchemistbook is borrowed by ['Alice']\n",
            "===============\n",
            "A book is borrowed!\n",
            "The Vampyre book is borrowed by David(18141777)\n",
            "Number of books available for borrowing = 997\n",
            "===============\n",
            "{'The Alchemist': ['Alice'], 'Wuthering Heights': ['Alice'], 'The Vampyre': ['David']}\n",
            "===============\n",
            "All books are returned by Alice\n",
            "===============\n",
            "{'The Alchemist': ['Alice'], 'Wuthering Heights': ['Alice'], 'The Vampyre': ['David']}\n"
          ]
        }
      ]
    },
    {
      "cell_type": "code",
      "metadata": {
        "colab": {
          "base_uri": "https://localhost:8080/"
        },
        "id": "VEhhlOP73wRx",
        "outputId": "0da38897-28b6-4640-b8a8-454665079318"
      },
      "source": [
        "class University:\n",
        "    name = \"ABC University\"\n",
        "    numberOfStudents = 0\n",
        "    admissionFee = 28000\n",
        "    Library = 2000\n",
        "\n",
        "    def __init__(self, n, i):\n",
        "        self.stName = n\n",
        "        self.stId = i\n",
        "\n",
        "    def payment(self):\n",
        "        return self.admissionFee + self.Library\n",
        "\n",
        "    def __str__(self):\n",
        "        return \"Student Name: {}, ID: {}\\nFee:{}\".format(self.stName, self.stId, self.payment())\n",
        "\n",
        "class CSE_dept(University):\n",
        "    SemesterFee = 7700\n",
        "    PerCreditFee = 6600\n",
        "    LabFee = 2750\n",
        "\n",
        "    def __init__(self, name, id, totCred = 6):\n",
        "        super().__init__(name, id)\n",
        "        self.totCred = totCred\n",
        "        self.totFee = super().payment()\n",
        "        self.totFee += CSE_dept.SemesterFee + CSE_dept.LabFee\n",
        "        self.totFee += CSE_dept.PerCreditFee * totCred\n",
        "        University.numberOfStudents += 1\n",
        "    \n",
        "    def payment_details(self):\n",
        "        s = \"Admission Fee: \" + str(super().admissionFee) + \"\\n\"\n",
        "        s += \"Library Fee: \" + str(super().Library) + \"\\n\"\n",
        "        s += \"Semester Fee: \" + str(CSE_dept.SemesterFee) + \"\\n\"\n",
        "        s += \"Per Credit Fee: \" + str(CSE_dept.PerCreditFee) + \"\\n\"\n",
        "        s += \"Num of credits: \" + str(self.totCred) + \"\\n\"\n",
        "        s += \"Lab Fee: \" + str(CSE_dept.LabFee) + \"\\n\"\n",
        "        print(s)\n",
        "    \n",
        "    def __str__(self):\n",
        "        s = super().__str__() + \"\\n\"\n",
        "        s += \"Fee: \" + str(self.totFee)\n",
        "        return s\n",
        "    \n",
        "    def __add__(self, other):\n",
        "        return self.totFee + other.totFee\n",
        "        \n",
        "class PHR_dept(University):\n",
        "    SemesterFee = 11000\n",
        "    PerCreditFee = 6600\n",
        "\n",
        "    def __init__(self, name, id, totCred = 9):\n",
        "        super().__init__(name, id)\n",
        "        self.totCred = totCred\n",
        "        self.totFee = super().payment() + PHR_dept.SemesterFee\n",
        "        self.totFee += PHR_dept.PerCreditFee * totCred\n",
        "        University.numberOfStudents += 1\n",
        "    \n",
        "    def payment_details(self):\n",
        "        s = \"Admission Fee: \" + str(super().admissionFee) + \"\\n\"\n",
        "        s += \"Library Fee: \" + str(super().Library) + \"\\n\"\n",
        "        s += \"Semester Fee: \" + str(PHR_dept.SemesterFee) + \"\\n\"\n",
        "        s += \"Per Credit Fee: \" + str(PHR_dept.PerCreditFee) + \"\\n\"\n",
        "        s += \"Num of credits: \" + str(self.totCred) + \"\\n\"\n",
        "        print(s)\n",
        "    \n",
        "    def __str__(self):\n",
        "        s = super().__str__() + \"\\n\"\n",
        "        s += \"Fee: \" + str(self.totFee)\n",
        "        return s\n",
        "    \n",
        "    def __add__(self, other):\n",
        "        return self.totFee + other.totFee\n",
        "\n",
        "\n",
        "c1 = CSE_dept(\"Mary\",\"5678\")\n",
        "print(c1)\n",
        "c1.payment_details()\n",
        "print(\"===========================\")\n",
        "p1 = PHR_dept(\"Simon\",\"91011\")\n",
        "print(p1)\n",
        "p1.payment_details()\n",
        "print(\"===========================\")\n",
        "c2 = CSE_dept(\"Adam\",\"1234\", 12)\n",
        "print(c2)\n",
        "c2.payment_details()\n",
        "print(\"===========================\")\n",
        "p2 = PHR_dept(\"David\",\"121314\", 15)\n",
        "print(p2)\n",
        "p2.payment_details()\n",
        "print(\"===========================\")\n",
        "print(\"Total Number of Students:\", University.numberOfStudents)\n",
        "print(\"Total University Revenue:\", (c1 + c2) + (p1 + p2))\n",
        "print(\"===========================\")\n",
        "print(\"Due to the pandemic, admission and library fees have been reduced for all departments. \")\n",
        "University.admissionFee -= 1000\n",
        "University.Library -= 100\n",
        "print(\"The credit, semester and lab fees have been reduced for the CSE department. \")\n",
        "CSE_dept.PerCreditFee -= 100\n",
        "CSE_dept.SemesterFee -= 100\n",
        "CSE_dept.LabFee -=100\n",
        "print(\"The credit and semester fees have been reduced for the PHR department.\\n \")\n",
        "PHR_dept.PerCreditFee -= 100\n",
        "PHR_dept.SemesterFee -= 1000\n",
        "print(c1)\n",
        "print(p1)\n",
        "print(c2)\n",
        "print(p2)\n",
        "print(\"===========================\")\n",
        "print(\"Total Number of Students:\",\n",
        "University.numberOfStudents)\n",
        "print(\"Total University Revenue:\", (c1 + c2) + (p1 + p2))\n",
        "\n"
      ],
      "execution_count": null,
      "outputs": [
        {
          "output_type": "stream",
          "name": "stdout",
          "text": [
            "Student Name: Mary, ID: 5678\n",
            "Fee:30000\n",
            "Fee: 80050\n",
            "Admission Fee: 28000\n",
            "Library Fee: 2000\n",
            "Semester Fee: 7700\n",
            "Per Credit Fee: 6600\n",
            "Num of credits: 6\n",
            "Lab Fee: 2750\n",
            "\n",
            "===========================\n",
            "Student Name: Simon, ID: 91011\n",
            "Fee:30000\n",
            "Fee: 100400\n",
            "Admission Fee: 28000\n",
            "Library Fee: 2000\n",
            "Semester Fee: 11000\n",
            "Per Credit Fee: 6600\n",
            "Num of credits: 9\n",
            "\n",
            "===========================\n",
            "Student Name: Adam, ID: 1234\n",
            "Fee:30000\n",
            "Fee: 119650\n",
            "Admission Fee: 28000\n",
            "Library Fee: 2000\n",
            "Semester Fee: 7700\n",
            "Per Credit Fee: 6600\n",
            "Num of credits: 12\n",
            "Lab Fee: 2750\n",
            "\n",
            "===========================\n",
            "Student Name: David, ID: 121314\n",
            "Fee:30000\n",
            "Fee: 140000\n",
            "Admission Fee: 28000\n",
            "Library Fee: 2000\n",
            "Semester Fee: 11000\n",
            "Per Credit Fee: 6600\n",
            "Num of credits: 15\n",
            "\n",
            "===========================\n",
            "Total Number of Students: 4\n",
            "Total University Revenue: 440100\n",
            "===========================\n",
            "Due to the pandemic, admission and library fees have been reduced for all departments. \n",
            "The credit, semester and lab fees have been reduced for the CSE department. \n",
            "The credit and semester fees have been reduced for the PHR department.\n",
            " \n",
            "Student Name: Mary, ID: 5678\n",
            "Fee:28900\n",
            "Fee: 80050\n",
            "Student Name: Simon, ID: 91011\n",
            "Fee:28900\n",
            "Fee: 100400\n",
            "Student Name: Adam, ID: 1234\n",
            "Fee:28900\n",
            "Fee: 119650\n",
            "Student Name: David, ID: 121314\n",
            "Fee:28900\n",
            "Fee: 140000\n",
            "===========================\n",
            "Total Number of Students: 4\n",
            "Total University Revenue: 440100\n"
          ]
        }
      ]
    },
    {
      "cell_type": "code",
      "metadata": {
        "colab": {
          "base_uri": "https://localhost:8080/"
        },
        "id": "TGpURvYE_hHg",
        "outputId": "77a4e7aa-203b-4900-e9e7-ff3de9507026"
      },
      "source": [
        "import math\n",
        "n = int(input(\"Enter the number of circles: \"))\n",
        "dic = {}\n",
        "for i in range(n):\n",
        "    r = int(input(\"Enter the radius of a circle: \"))\n",
        "    s = \"\"\n",
        "    s += \"Circle \" + str(i + 1)\n",
        "    lst = [math.pi * r * r, math.pi * 2 * r]\n",
        "    dic[s] = lst\n",
        "print(dic)"
      ],
      "execution_count": null,
      "outputs": [
        {
          "output_type": "stream",
          "name": "stdout",
          "text": [
            "Enter the number of circles: 4\n",
            "Enter the radius of a circle: 2\n",
            "Enter the radius of a circle: 6\n",
            "Enter the radius of a circle: 3\n",
            "Enter the radius of a circle: 1\n",
            "{'Circle 1': [12.566370614359172, 12.566370614359172], 'Circle 2': [113.09733552923255, 37.69911184307752], 'Circle 3': [28.274333882308138, 18.84955592153876], 'Circle 4': [3.141592653589793, 6.283185307179586]}\n"
          ]
        }
      ]
    },
    {
      "cell_type": "code",
      "metadata": {
        "colab": {
          "base_uri": "https://localhost:8080/"
        },
        "id": "8rbuI9TvBIxr",
        "outputId": "7a7bda94-b361-4de7-ee29-20c572460e27"
      },
      "source": [
        "class CricketTeam:\n",
        "    def __init__(self, name, ranking, continent):\n",
        "        self.name = name\n",
        "        self.ranking = ranking\n",
        "        self.continent = continent\n",
        "\n",
        "    def add_player(self, *info):\n",
        "        pass\n",
        "\n",
        "    def __str__(self):\n",
        "       s = f\"Name: {self.name}\\nRanking: {self.ranking}\\nContinent: {self.continent}\"\n",
        "       return s\n",
        "\n",
        "class BDTeam(CricketTeam):\n",
        "    def __init__(self, name, ranking, continent, cups):\n",
        "        super().__init__(name, ranking, continent)\n",
        "        self.cups = cups\n",
        "        self.bowler = []\n",
        "        self.batter = []\n",
        "        self.all = []\n",
        "    \n",
        "    def asia_cup_status(self):\n",
        "        return \"Hurray!!! Bangladesh has won \" + str(self.cups) + \" Asia Cups!!!\"\n",
        "    \n",
        "    def add_player(self, *info):\n",
        "        for i in range(0, len(info), 2):\n",
        "            if info[i + 1] == \"Batter\":\n",
        "                self.batter.append(info[i])\n",
        "            elif info[i + 1] == \"Bowler\":\n",
        "                self.bowler.append(info[i])\n",
        "            else:\n",
        "                self.all.append(info[i])\n",
        "    \n",
        "    def __str__(self):\n",
        "        s = \"Country Details: \" + \"\\n\"\n",
        "        s += super().__str__() + \"\\n\"\n",
        "        s += \"Asia Cup Win: \"  + str(self.cups) + \"\\n\"\n",
        "        s += \"Players: \\n\"\n",
        "        s += \"Bowler: \" + str(self.bowler) + \"\\n\"\n",
        "        s += \"All Rounder: \" + str(self.all) + \"\\n\"\n",
        "        s += \"Batter: \" + str(self.batter)\n",
        "        return s\n",
        "\n",
        "class AusTeam(CricketTeam):\n",
        "    def __init__(self, name, ranking, continent, cups):\n",
        "        super().__init__(name, ranking, continent)\n",
        "        self.cups = cups\n",
        "        self.bowler = []\n",
        "        self.batter = []\n",
        "        self.all = []\n",
        "    \n",
        "    def world_cup_status(self):\n",
        "        return \"Hurray!!! Australia has won \" + str(self.cups) + \" World Cups!!!\"\n",
        "    \n",
        "    def add_player(self, *info):\n",
        "        for i in range(0, len(info), 2):\n",
        "            if info[i] == \"Batter\":\n",
        "                self.batter.append(info[i + 1])\n",
        "            elif info[i] == \"Bowler\":\n",
        "                self.bowler.append(info[i + 1])\n",
        "            else:\n",
        "                self.all.append(info[i + 1])\n",
        "    \n",
        "    def __str__(self):\n",
        "        s = \"Country Details: \" + \"\\n\"\n",
        "        s += super().__str__() + \"\\n\"\n",
        "        s += \"Asia Cup Win: \"  + str(self.cups) + \"\\n\"\n",
        "        s += \"Players: \\n\"\n",
        "        s += \"Bowler: \" + str(self.bowler) + \"\\n\"\n",
        "        s += \"All Rounder: \" + str(self.all) + \"\\n\"\n",
        "        s += \"Batter: \" + str(self.batter)\n",
        "        return s\n",
        "\n",
        "bangladesh = BDTeam(\"Bangladesh\", 7, \"South Asia\", 1)\n",
        "bangladesh.add_player(\"Mustafiz\", \"Bowler\", \"Mashrafee\", \"Bowler\", \"Shakib\", \"All Rounder\", \"Tamim\", \"Batter\", \"Mahmudullah\", \"Batter\")\n",
        "print('1.------------------------------------')\n",
        "print(bangladesh.asia_cup_status())\n",
        "print('2.------------------------------------')\n",
        "print(bangladesh)\n",
        "print('3.====================================')\n",
        "australia = AusTeam(\"Australia\", 3, \"Oceania\", 5)\n",
        "australia.add_player(\"Batter\", \"Smith\", \"All Rounder\", \"Marsh\", \"Batter\", \"David\", \"Bowler\", \"Starc\", \"Bowler\", \"Hazlewood\")\n",
        "print('4.------------------------------------')\n",
        "print(australia.world_cup_status())\n",
        "print('5.------------------------------------')\n",
        "print(australia)\n"
      ],
      "execution_count": null,
      "outputs": [
        {
          "output_type": "stream",
          "name": "stdout",
          "text": [
            "1.------------------------------------\n",
            "Hurray!!! Bangladesh has won 1 Asia Cups!!!\n",
            "2.------------------------------------\n",
            "Country Details: \n",
            "Name: Bangladesh\n",
            "Ranking: 7\n",
            "Continent: South Asia\n",
            "Asia Cup Win: 1\n",
            "Players: \n",
            "Bowler: ['Mustafiz', 'Mashrafee']\n",
            "All Rounder: ['Shakib']\n",
            "Batter: ['Tamim', 'Mahmudullah']\n",
            "3.====================================\n",
            "4.------------------------------------\n",
            "Hurray!!! Australia has won 5 World Cups!!!\n",
            "5.------------------------------------\n",
            "Country Details: \n",
            "Name: Australia\n",
            "Ranking: 3\n",
            "Continent: Oceania\n",
            "Asia Cup Win: 5\n",
            "Players: \n",
            "Bowler: ['Starc', 'Hazlewood']\n",
            "All Rounder: ['Marsh']\n",
            "Batter: ['Smith', 'David']\n"
          ]
        }
      ]
    },
    {
      "cell_type": "code",
      "metadata": {
        "colab": {
          "base_uri": "https://localhost:8080/"
        },
        "id": "30PRTn1cHwE0",
        "outputId": "89f565ea-b5ab-4b1b-dc64-01b5637a10da"
      },
      "source": [
        "phonebook = {}\n",
        "nums = input(\"Enter name and numbers: \")\n",
        "num_list = nums.split(\" \")\n",
        "for i in range(0, len(num_list), 2):\n",
        "    if (num_list[i][0]).upper() in phonebook:\n",
        "        phonebook[(num_list[i][0]).upper()][num_list[i]] = num_list[i + 1]\n",
        "    else:\n",
        "        phonebook[(num_list[i][0]).upper()] = {}\n",
        "        phonebook[(num_list[i][0]).upper()][num_list[i]] = num_list[i + 1]\n",
        "\n",
        "print(phonebook)"
      ],
      "execution_count": null,
      "outputs": [
        {
          "output_type": "stream",
          "name": "stdout",
          "text": [
            "Enter name and numbers: BOb 309475203948 Alice 42349582394 Britns 39457023 Aeron 725398475293 slsfjk 29034752093 tards 3498304 casdfk 34598304\n",
            "{'B': {'BOb': '309475203948', 'Britns': '39457023'}, 'A': {'Alice': '42349582394', 'Aeron': '725398475293'}, 'S': {'slsfjk': '29034752093'}, 'T': {'tards': '3498304'}, 'C': {'casdfk': '34598304'}}\n"
          ]
        }
      ]
    },
    {
      "cell_type": "code",
      "metadata": {
        "colab": {
          "base_uri": "https://localhost:8080/"
        },
        "id": "CXO5QHs4N819",
        "outputId": "c0d2832a-643a-48de-d608-b741ca68d0f1"
      },
      "source": [
        "class Player:\n",
        "    tot_pl = 0\n",
        "    tot_for = 0\n",
        "    tot_def = 0\n",
        "\n",
        "    def __init__(self, name, team, pos = \"Forward\"):\n",
        "        self.name = name\n",
        "        self.team = team\n",
        "        self.pos = pos\n",
        "        self.earn = 0\n",
        "        Player.tot_pl += 1\n",
        "        if pos == \"Forward\":\n",
        "            Player.tot_for += 1\n",
        "        else:\n",
        "            Player.tot_def += 1\n",
        "        print(\"Creating a \" + pos)\n",
        "\n",
        "\n",
        "    def calculate_earning(self, matches, goals = None):\n",
        "        self.earn += matches * 400\n",
        "        if self.pos == \"Forward\" and goals != None:\n",
        "            self.earn += goals * 50\n",
        "        elif goals != None:\n",
        "            self.earn += goals * 40\n",
        "    \n",
        "    def __str__(self):\n",
        "        s = \"Player No: \" + str(Player.tot_pl) + \"\\n\"\n",
        "        s += \"Name: \" + self.name + \"\\n\"\n",
        "        s += \"Team: \" + self.team + \"\\n\"\n",
        "        s += \"Position: \" + self.pos + \"\\n\"\n",
        "        s += \"Earning: \" + str(self.earn) + \"$\"\n",
        "        return s\n",
        "    \n",
        "    @classmethod\n",
        "    def player_info(self):\n",
        "        s = \"Total Number of Player: \" + str(Player.tot_pl) + \"\\n\"\n",
        "        s += \"Total Number of Forward: \" + str(Player.tot_for) + \"\\n\"\n",
        "        s += \"Total Number of Defender: \" + str(Player.tot_def)\n",
        "        print(s)\n",
        "\n",
        "Player.player_info()\n",
        "print('1.========================================')\n",
        "ronaldo = Player(\"Ronaldo\", \"Man United\")\n",
        "print('2.----------------------------------------')\n",
        "ronaldo.calculate_earning(5, 7)\n",
        "print('3.----------------------------------------')\n",
        "print(ronaldo)\n",
        "print('4.========================================')\n",
        "ramos = Player(\"Ramos\", \"PSG\", \"Defender\")\n",
        "print('5.----------------------------------------')\n",
        "ramos.calculate_earning(5, 1)\n",
        "print('6.----------------------------------------')\n",
        "print(ramos)\n",
        "print('7.========================================')\n",
        "pogba = Player(\"Pogba\", \"Man United\")\n",
        "print('8.----------------------------------------')\n",
        "pogba.calculate_earning(5)\n",
        "print('9.----------------------------------------')\n",
        "print(pogba)\n",
        "print('10.========================================')\n",
        "Player.player_info()"
      ],
      "execution_count": null,
      "outputs": [
        {
          "output_type": "stream",
          "name": "stdout",
          "text": [
            "Total Number of Player: 0\n",
            "Total Number of Forward: 0\n",
            "Total Number of Defender: 0\n",
            "1.========================================\n",
            "Creating a Forward\n",
            "2.----------------------------------------\n",
            "3.----------------------------------------\n",
            "Player No: 1\n",
            "Name: Ronaldo\n",
            "Team: Man United\n",
            "Position: Forward\n",
            "Earning: 2350$\n",
            "4.========================================\n",
            "Creating a Defender\n",
            "5.----------------------------------------\n",
            "6.----------------------------------------\n",
            "Player No: 2\n",
            "Name: Ramos\n",
            "Team: PSG\n",
            "Position: Defender\n",
            "Earning: 2040$\n",
            "7.========================================\n",
            "Creating a Forward\n",
            "8.----------------------------------------\n",
            "9.----------------------------------------\n",
            "Player No: 3\n",
            "Name: Pogba\n",
            "Team: Man United\n",
            "Position: Forward\n",
            "Earning: 2000$\n",
            "10.========================================\n",
            "Total Number of Player: 3\n",
            "Total Number of Forward: 2\n",
            "Total Number of Defender: 1\n"
          ]
        }
      ]
    },
    {
      "cell_type": "code",
      "metadata": {
        "colab": {
          "base_uri": "https://localhost:8080/"
        },
        "id": "JprU2itbSey-",
        "outputId": "b708af7d-7439-40e6-a12e-a2e98d015962"
      },
      "source": [
        "class ShoppingCart:\n",
        "    def __init__(self, cart):\n",
        "        self.cart = cart\n",
        "        self.prod_list = []\n",
        "    \n",
        "    def addGadget(self, *args):\n",
        "        for i in range(0, len(args), 2):\n",
        "            if (args[i].stock < args[i + 1]):\n",
        "                s = args[i].name\n",
        "                s += \" stock is less than required quantity. Cannot add\"\n",
        "                print(s)\n",
        "            else:\n",
        "                self.prod_list.append(args[i])\n",
        "                self.prod_list.append(args[i + 1])\n",
        "    \n",
        "    def printCartDetails(self):\n",
        "        tot_cost = 0\n",
        "        s = \"Details of \" + self.cart + \" cart:\\n\"\n",
        "        s += \"Total gadgets in cart: \" + str(len(self.prod_list)//2) + \"\\n\"\n",
        "        for i in range(0, len(self.prod_list), 2):\n",
        "            s += \"Gadgets: \" + self.prod_list[i].ptype\n",
        "            s += \" Model: \" + self.prod_list[i].name\n",
        "            s += \" Price: \" + str(self.prod_list[i].price) + \"\\n\"\n",
        "            s += \"Quantity: \" + str(self.prod_list[i + 1])\n",
        "            s += \" Stock: \" + str(self.prod_list[i].stock) + \" pcs\\n\"\n",
        "            tot_cost += self.prod_list[i].price * self.prod_list[i + 1]\n",
        "        s += \"Total cost of cart: \" + str(tot_cost) + \"$\"\n",
        "        print(s)\n",
        "\n",
        "\n",
        "class Product:\n",
        "    totalProducts = 0\n",
        "    def __init__(self, name, ptype, price, stock = 0):\n",
        "        self.name = name\n",
        "        self.ptype = ptype\n",
        "        self.price = price\n",
        "        self.stock = stock\n",
        "        Product.totalProducts += 1\n",
        "    \n",
        "    @classmethod\n",
        "    def createProduct(cls, name, ptype, price, stock):\n",
        "        return cls(name, ptype, price, stock)\n",
        "\n",
        "s1 = ShoppingCart(\"Amazon\")\n",
        "p1 = Product(\"Razer BlackShark\",\"Headset\",99.99,5)\n",
        "p2 = Product(\"Logitech G ProX Superlight\",\"Mouse\",150)\n",
        "print(\"1.====================================\")\n",
        "s1.addGadget(p1,2,p2,1)\n",
        "print(\"2.====================================\")\n",
        "p3 = Product.createProduct(\"Razer Huntsman\",\"Keyboard\",249.99,12)\n",
        "s1.addGadget(p3,1)\n",
        "s1.addGadget(Product(\"HyperX Fury\",\"Mousepad\",26.99,1),2)\n",
        "print(\"3.====================================\")\n",
        "print(\"Total Products created:\", Product.totalProducts)\n",
        "print(\"4.====================================\")\n",
        "s1.printCartDetails()\n",
        "print(\"5.====================================\")\n",
        "    \n",
        "\n",
        "    "
      ],
      "execution_count": null,
      "outputs": [
        {
          "output_type": "stream",
          "name": "stdout",
          "text": [
            "1.====================================\n",
            "Logitech G ProX Superlight stock is less than required quantity. Cannot add\n",
            "2.====================================\n",
            "HyperX Fury stock is less than required quantity. Cannot add\n",
            "3.====================================\n",
            "Total Products created: 4\n",
            "4.====================================\n",
            "Details of Amazon cart:\n",
            "Total gadgets in cart: 2\n",
            "Gadgets: Headset Model: Razer BlackShark Price: 99.99\n",
            "Quantity: 2 Stock: 5 pcs\n",
            "Gadgets: Keyboard Model: Razer Huntsman Price: 249.99\n",
            "Quantity: 1 Stock: 12 pcs\n",
            "Total cost of cart: 449.97$\n",
            "5.====================================\n"
          ]
        }
      ]
    },
    {
      "cell_type": "code",
      "metadata": {
        "id": "xNijTMbowjuG"
      },
      "source": [
        ""
      ],
      "execution_count": null,
      "outputs": []
    }
  ]
}